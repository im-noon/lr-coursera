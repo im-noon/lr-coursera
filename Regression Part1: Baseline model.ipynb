{
    "cells": [
        {
            "cell_type": "markdown",
            "metadata": {
                "collapsed": true
            },
            "source": "## Assignment-1"
        },
        {
            "cell_type": "markdown",
            "metadata": {},
            "source": "## Table of Contents\n\n<div class=\"alert alert-block alert-info\" style=\"margin-top: 20px\">\n\n<font size = 3>\n      \n1. <a href=\"#instructions\">Instructions</a>   \n2. <a href=\"#about_dataset\">About the dataset</a>  \n3. <a href=\"#pre_processing\">Pre processing data</a>  \n4. <a href=\"#train_test_dataset\">Train/Test dataset</a>   \n5. <a href=\"#modeling\">Build regression model</a>  \n6. <a href=\"#train_model\">Train the model</a>  \n7. <a href=\"report\">Report Model performance</a>  \n</font>\n</div>"
        },
        {
            "cell_type": "markdown",
            "metadata": {},
            "source": "<h2 id=\"instructions\">Instructions</h2>\nThis assignment is to build a baseline model in Keras with followingz:\n\n- One hidden layer of 10 nodes, and a ReLU activation function\n\n- Use the adam optimizer and the mean squared error as the loss function.\n\n1. Randomly split the data into a training and test sets by holding 30% of the data for testing.\n\n2. Train the model on the training data using 50 epochs.\n\n3. Evaluate the model on the test data and compute the mean squared error between the predicted concrete strength and the actual concrete strength. You can use the mean_squared_error function from Scikit-learn.\n\n4. Repeat steps 1 - 3, 50 times, i.e., create a list of 50 mean squared errors.\n\n5. Report the mean and the standard deviation of the mean squared errors."
        },
        {
            "cell_type": "markdown",
            "metadata": {},
            "source": "import required libraries:"
        },
        {
            "cell_type": "code",
            "execution_count": 1,
            "metadata": {},
            "outputs": [],
            "source": "import pandas as pd\nimport pylab as pl"
        },
        {
            "cell_type": "markdown",
            "metadata": {},
            "source": "<h2 id=\"about_dataset\">About the dataset</h2>\n<strong>The dataset is about the compressive strength of different samples of concrete based on the volumes of the different predictors that were used to make them. The predictors include:</strong>\n\n<strong>1. Cement</strong><br>\n<strong>2. Blast Furnace Slag</strong><br>\n<strong>3. Fly Ash</strong><br>\n<strong>4. Water</strong><br>\n<strong>5. Superplasticizer</strong><br>\n<strong>6. Coarse Aggregate</strong><br>\n<strong>7. Fine Aggregate</strong><br>\nthe data can be found here again: https://cocl.us/concrete_data."
        },
        {
            "cell_type": "markdown",
            "metadata": {},
            "source": "Let's download the data and read it into a pandas dataframe."
        },
        {
            "cell_type": "markdown",
            "metadata": {},
            "source": "<h2 id=\"pre_processing\">Processing Data</h2>"
        },
        {
            "cell_type": "code",
            "execution_count": 2,
            "metadata": {},
            "outputs": [
                {
                    "data": {
                        "text/html": "<div>\n<style scoped>\n    .dataframe tbody tr th:only-of-type {\n        vertical-align: middle;\n    }\n\n    .dataframe tbody tr th {\n        vertical-align: top;\n    }\n\n    .dataframe thead th {\n        text-align: right;\n    }\n</style>\n<table border=\"1\" class=\"dataframe\">\n  <thead>\n    <tr style=\"text-align: right;\">\n      <th></th>\n      <th>Cement</th>\n      <th>Blast Furnace Slag</th>\n      <th>Fly Ash</th>\n      <th>Water</th>\n      <th>Superplasticizer</th>\n      <th>Coarse Aggregate</th>\n      <th>Fine Aggregate</th>\n      <th>Age</th>\n      <th>Strength</th>\n    </tr>\n  </thead>\n  <tbody>\n    <tr>\n      <th>0</th>\n      <td>540.0</td>\n      <td>0.0</td>\n      <td>0.0</td>\n      <td>162.0</td>\n      <td>2.5</td>\n      <td>1040.0</td>\n      <td>676.0</td>\n      <td>28</td>\n      <td>79.99</td>\n    </tr>\n    <tr>\n      <th>1</th>\n      <td>540.0</td>\n      <td>0.0</td>\n      <td>0.0</td>\n      <td>162.0</td>\n      <td>2.5</td>\n      <td>1055.0</td>\n      <td>676.0</td>\n      <td>28</td>\n      <td>61.89</td>\n    </tr>\n    <tr>\n      <th>2</th>\n      <td>332.5</td>\n      <td>142.5</td>\n      <td>0.0</td>\n      <td>228.0</td>\n      <td>0.0</td>\n      <td>932.0</td>\n      <td>594.0</td>\n      <td>270</td>\n      <td>40.27</td>\n    </tr>\n    <tr>\n      <th>3</th>\n      <td>332.5</td>\n      <td>142.5</td>\n      <td>0.0</td>\n      <td>228.0</td>\n      <td>0.0</td>\n      <td>932.0</td>\n      <td>594.0</td>\n      <td>365</td>\n      <td>41.05</td>\n    </tr>\n    <tr>\n      <th>4</th>\n      <td>198.6</td>\n      <td>132.4</td>\n      <td>0.0</td>\n      <td>192.0</td>\n      <td>0.0</td>\n      <td>978.4</td>\n      <td>825.5</td>\n      <td>360</td>\n      <td>44.30</td>\n    </tr>\n  </tbody>\n</table>\n</div>",
                        "text/plain": "   Cement  Blast Furnace Slag  Fly Ash  Water  Superplasticizer  \\\n0   540.0                 0.0      0.0  162.0               2.5   \n1   540.0                 0.0      0.0  162.0               2.5   \n2   332.5               142.5      0.0  228.0               0.0   \n3   332.5               142.5      0.0  228.0               0.0   \n4   198.6               132.4      0.0  192.0               0.0   \n\n   Coarse Aggregate  Fine Aggregate  Age  Strength  \n0            1040.0           676.0   28     79.99  \n1            1055.0           676.0   28     61.89  \n2             932.0           594.0  270     40.27  \n3             932.0           594.0  365     41.05  \n4             978.4           825.5  360     44.30  "
                    },
                    "execution_count": 2,
                    "metadata": {},
                    "output_type": "execute_result"
                }
            ],
            "source": "concrete_data = pd.read_csv('https://cocl.us/concrete_data/concrete_data.csv')\nconcrete_data.head()"
        },
        {
            "cell_type": "markdown",
            "metadata": {},
            "source": "#### Let's check how many data points we have."
        },
        {
            "cell_type": "code",
            "execution_count": 3,
            "metadata": {},
            "outputs": [
                {
                    "data": {
                        "text/plain": "(1030, 9)"
                    },
                    "execution_count": 3,
                    "metadata": {},
                    "output_type": "execute_result"
                }
            ],
            "source": "concrete_data.shape"
        },
        {
            "cell_type": "markdown",
            "metadata": {},
            "source": "There are 1030 samples of dataset, it quite a few samples, we have to be careful not to overfit the training data.\n"
        },
        {
            "cell_type": "markdown",
            "metadata": {},
            "source": "Let's check the dataset for any missing values."
        },
        {
            "cell_type": "code",
            "execution_count": 4,
            "metadata": {},
            "outputs": [
                {
                    "data": {
                        "text/html": "<div>\n<style scoped>\n    .dataframe tbody tr th:only-of-type {\n        vertical-align: middle;\n    }\n\n    .dataframe tbody tr th {\n        vertical-align: top;\n    }\n\n    .dataframe thead th {\n        text-align: right;\n    }\n</style>\n<table border=\"1\" class=\"dataframe\">\n  <thead>\n    <tr style=\"text-align: right;\">\n      <th></th>\n      <th>Cement</th>\n      <th>Blast Furnace Slag</th>\n      <th>Fly Ash</th>\n      <th>Water</th>\n      <th>Superplasticizer</th>\n      <th>Coarse Aggregate</th>\n      <th>Fine Aggregate</th>\n      <th>Age</th>\n      <th>Strength</th>\n    </tr>\n  </thead>\n  <tbody>\n    <tr>\n      <th>count</th>\n      <td>1030.000000</td>\n      <td>1030.000000</td>\n      <td>1030.000000</td>\n      <td>1030.000000</td>\n      <td>1030.000000</td>\n      <td>1030.000000</td>\n      <td>1030.000000</td>\n      <td>1030.000000</td>\n      <td>1030.000000</td>\n    </tr>\n    <tr>\n      <th>mean</th>\n      <td>281.167864</td>\n      <td>73.895825</td>\n      <td>54.188350</td>\n      <td>181.567282</td>\n      <td>6.204660</td>\n      <td>972.918932</td>\n      <td>773.580485</td>\n      <td>45.662136</td>\n      <td>35.817961</td>\n    </tr>\n    <tr>\n      <th>std</th>\n      <td>104.506364</td>\n      <td>86.279342</td>\n      <td>63.997004</td>\n      <td>21.354219</td>\n      <td>5.973841</td>\n      <td>77.753954</td>\n      <td>80.175980</td>\n      <td>63.169912</td>\n      <td>16.705742</td>\n    </tr>\n    <tr>\n      <th>min</th>\n      <td>102.000000</td>\n      <td>0.000000</td>\n      <td>0.000000</td>\n      <td>121.800000</td>\n      <td>0.000000</td>\n      <td>801.000000</td>\n      <td>594.000000</td>\n      <td>1.000000</td>\n      <td>2.330000</td>\n    </tr>\n    <tr>\n      <th>25%</th>\n      <td>192.375000</td>\n      <td>0.000000</td>\n      <td>0.000000</td>\n      <td>164.900000</td>\n      <td>0.000000</td>\n      <td>932.000000</td>\n      <td>730.950000</td>\n      <td>7.000000</td>\n      <td>23.710000</td>\n    </tr>\n    <tr>\n      <th>50%</th>\n      <td>272.900000</td>\n      <td>22.000000</td>\n      <td>0.000000</td>\n      <td>185.000000</td>\n      <td>6.400000</td>\n      <td>968.000000</td>\n      <td>779.500000</td>\n      <td>28.000000</td>\n      <td>34.445000</td>\n    </tr>\n    <tr>\n      <th>75%</th>\n      <td>350.000000</td>\n      <td>142.950000</td>\n      <td>118.300000</td>\n      <td>192.000000</td>\n      <td>10.200000</td>\n      <td>1029.400000</td>\n      <td>824.000000</td>\n      <td>56.000000</td>\n      <td>46.135000</td>\n    </tr>\n    <tr>\n      <th>max</th>\n      <td>540.000000</td>\n      <td>359.400000</td>\n      <td>200.100000</td>\n      <td>247.000000</td>\n      <td>32.200000</td>\n      <td>1145.000000</td>\n      <td>992.600000</td>\n      <td>365.000000</td>\n      <td>82.600000</td>\n    </tr>\n  </tbody>\n</table>\n</div>",
                        "text/plain": "            Cement  Blast Furnace Slag      Fly Ash        Water  \\\ncount  1030.000000         1030.000000  1030.000000  1030.000000   \nmean    281.167864           73.895825    54.188350   181.567282   \nstd     104.506364           86.279342    63.997004    21.354219   \nmin     102.000000            0.000000     0.000000   121.800000   \n25%     192.375000            0.000000     0.000000   164.900000   \n50%     272.900000           22.000000     0.000000   185.000000   \n75%     350.000000          142.950000   118.300000   192.000000   \nmax     540.000000          359.400000   200.100000   247.000000   \n\n       Superplasticizer  Coarse Aggregate  Fine Aggregate          Age  \\\ncount       1030.000000       1030.000000     1030.000000  1030.000000   \nmean           6.204660        972.918932      773.580485    45.662136   \nstd            5.973841         77.753954       80.175980    63.169912   \nmin            0.000000        801.000000      594.000000     1.000000   \n25%            0.000000        932.000000      730.950000     7.000000   \n50%            6.400000        968.000000      779.500000    28.000000   \n75%           10.200000       1029.400000      824.000000    56.000000   \nmax           32.200000       1145.000000      992.600000   365.000000   \n\n          Strength  \ncount  1030.000000  \nmean     35.817961  \nstd      16.705742  \nmin       2.330000  \n25%      23.710000  \n50%      34.445000  \n75%      46.135000  \nmax      82.600000  "
                    },
                    "execution_count": 4,
                    "metadata": {},
                    "output_type": "execute_result"
                }
            ],
            "source": "concrete_data.describe()"
        },
        {
            "cell_type": "code",
            "execution_count": 5,
            "metadata": {},
            "outputs": [
                {
                    "data": {
                        "text/plain": "Cement                0\nBlast Furnace Slag    0\nFly Ash               0\nWater                 0\nSuperplasticizer      0\nCoarse Aggregate      0\nFine Aggregate        0\nAge                   0\nStrength              0\ndtype: int64"
                    },
                    "execution_count": 5,
                    "metadata": {},
                    "output_type": "execute_result"
                }
            ],
            "source": "concrete_data.isnull().sum()"
        },
        {
            "cell_type": "markdown",
            "metadata": {},
            "source": "Great!, our data looks very clean, next start to build our model."
        },
        {
            "cell_type": "markdown",
            "metadata": {},
            "source": "<h2 id=\"train_test_dataset\">Train/Test dataset</h2>\n#### We split our dataset into train and test set\n#### Randomly split the data into a training and test sets by holding 30% of the data for testing."
        },
        {
            "cell_type": "markdown",
            "metadata": {},
            "source": "#### Split data into predictors and target"
        },
        {
            "cell_type": "markdown",
            "metadata": {},
            "source": "The target variable in this problem is the concrete sample strength. Therefore, our predictors will be all the other columns."
        },
        {
            "cell_type": "code",
            "execution_count": 6,
            "metadata": {},
            "outputs": [],
            "source": "# get the column as feature\nconcrete_data_columns = concrete_data.columns\n\n# make the features and label\nX = concrete_data[concrete_data_columns[concrete_data_columns != 'Strength']] # all columns except Strength\ny = concrete_data['Strength'] # Strength column"
        },
        {
            "cell_type": "code",
            "execution_count": 7,
            "metadata": {},
            "outputs": [],
            "source": "from sklearn.model_selection import train_test_split"
        },
        {
            "cell_type": "code",
            "execution_count": 8,
            "metadata": {},
            "outputs": [],
            "source": "def get_datatset(random):\n    return train_test_split(X, y, test_size=param_test_size, random_state=random)"
        },
        {
            "cell_type": "code",
            "execution_count": 9,
            "metadata": {},
            "outputs": [],
            "source": "def verify_dataset(X_trainset, X_testset, y_trainset, y_testset):\n    print(\"++++++++++++++++++++++++++++++++++++++++++++++++\")\n    print(\"X_trainset shape : {}\".format(X_trainset.shape))\n    print(\"y_trainset shape : {}\".format(y_trainset.shape))\n    print(\"X_testset shape : {}\".format(X_testset.shape))\n    print(\"y_testset shape : {}\".format(y_testset.shape))"
        },
        {
            "cell_type": "markdown",
            "metadata": {},
            "source": "<h2 id=\"modeling\">Build regression model</h2>\nWe will build a baseline Regression Model with following:\n#### We will use the adam optimizer and the mean squared error as the loss function\n#### One hidden layer of 10 nodes, and a ReLU activation function"
        },
        {
            "cell_type": "markdown",
            "metadata": {},
            "source": "Let's import the rest of the packages from the Keras library that we will need to build our regressoin model."
        },
        {
            "cell_type": "code",
            "execution_count": 10,
            "metadata": {},
            "outputs": [
                {
                    "name": "stderr",
                    "output_type": "stream",
                    "text": "Using TensorFlow backend.\n"
                }
            ],
            "source": "import keras\nfrom keras.models import Sequential\nfrom keras.layers import Dense\nfrom keras.utils import to_categorical"
        },
        {
            "cell_type": "markdown",
            "metadata": {},
            "source": "#### define regression model"
        },
        {
            "cell_type": "code",
            "execution_count": 11,
            "metadata": {},
            "outputs": [],
            "source": "param_test_size = 0.3 # 30%\nparam_train_epochs = 50\nparam_optimizer = 'adam'\nparam_loss_func = 'mean_squared_error'\nparam_nn_node = 10\nparam_activation_func = 'relu'\nparam_input_shape = 8 # number of predictors"
        },
        {
            "cell_type": "code",
            "execution_count": 12,
            "metadata": {},
            "outputs": [],
            "source": "\ndef regression_model():\n    # create model\n    model = Sequential()\n    model.add(Dense(10, activation = param_activation_func, input_shape=(param_input_shape,)))\n    model.add(Dense(1))\n    \n    # compile model\n    model.compile(optimizer = param_optimizer, loss=param_loss_func, metrics=['mse'])\n    return model"
        },
        {
            "cell_type": "markdown",
            "metadata": {},
            "source": "6. <a href=\"#train_model\">Train the model</a>  \nWe will train the model and report of mean and the standard deviation of the mean squared errors.\nThe instruction as following:\n\n1. Randomly split the data into a training and test sets by holding 30% of the data for testing. \n2. Train the model on the training data using 50 epochs.\n3. Evaluate the model on the test data and compute the mean squared error between the predicted concrete strength and the actual concrete strength. \n4. Repeat steps 1 - 3, 50 times, i.e., create a list of 50 mean squared errors."
        },
        {
            "cell_type": "code",
            "execution_count": 13,
            "metadata": {},
            "outputs": [],
            "source": "from sklearn.metrics import mean_squared_error"
        },
        {
            "cell_type": "code",
            "execution_count": 14,
            "metadata": {},
            "outputs": [],
            "source": "def regression_model_evaluatioin(batch):\n    \n    metrics = []\n    # test for 50 times\n    for i in range(1, batch + 1):\n        print(\"++++++++++++++++++++++++++++++++++++++++++++++++\")\n        print(\"Step : {}\".format(i))\n        \n        # get random training and testing data set\n        X_trainset, X_testset, y_trainset, y_testset = get_datatset(i)\n    \n        # validate dataset\n        verify_dataset(X_trainset, X_testset, y_trainset, y_testset)\n    \n        # build the model\n        model = regression_model()\n    \n        # train model with trainginset\n        model.fit(X_trainset, y_trainset, validation_split=0.3, epochs=param_train_epochs, verbose=0)\n    \n        # prediction with testing set\n        y_predict = model.predict_classes(X_testset)\n    \n        \n        # get mean squared error\n        mse = mean_squared_error(y_testset, y_predict)\n        print('Mean squared error: %.2f\\n' %mse);\n        metrics.append(mse)\n    \n    return metrics"
        },
        {
            "cell_type": "markdown",
            "metadata": {},
            "source": "Let's call the function now to create our model."
        },
        {
            "cell_type": "markdown",
            "metadata": {},
            "source": "<h2 id=\"report\">Report Model performance</h2>\nReport the mean and the standard deviation of the mean squared errors."
        },
        {
            "cell_type": "code",
            "execution_count": 15,
            "metadata": {},
            "outputs": [],
            "source": "import numpy as np\n%matplotlib inline \nimport matplotlib.pyplot as plt\n"
        },
        {
            "cell_type": "code",
            "execution_count": 16,
            "metadata": {},
            "outputs": [
                {
                    "name": "stdout",
                    "output_type": "stream",
                    "text": "++++++++++++++++++++++++++++++++++++++++++++++++\nStep : 1\n++++++++++++++++++++++++++++++++++++++++++++++++\nX_trainset shape : (721, 8)\ny_trainset shape : (721,)\nX_testset shape : (309, 8)\ny_testset shape : (309,)\nWARNING:tensorflow:From /opt/conda/envs/Python36/lib/python3.6/site-packages/tensorflow/python/framework/op_def_library.py:263: colocate_with (from tensorflow.python.framework.ops) is deprecated and will be removed in a future version.\nInstructions for updating:\nColocations handled automatically by placer.\nWARNING:tensorflow:From /opt/conda/envs/Python36/lib/python3.6/site-packages/tensorflow/python/ops/math_ops.py:3066: to_int32 (from tensorflow.python.ops.math_ops) is deprecated and will be removed in a future version.\nInstructions for updating:\nUse tf.cast instead.\nMean squared error: 1515.93\n\n++++++++++++++++++++++++++++++++++++++++++++++++\nStep : 2\n++++++++++++++++++++++++++++++++++++++++++++++++\nX_trainset shape : (721, 8)\ny_trainset shape : (721,)\nX_testset shape : (309, 8)\ny_testset shape : (309,)\nMean squared error: 1454.50\n\n++++++++++++++++++++++++++++++++++++++++++++++++\nStep : 3\n++++++++++++++++++++++++++++++++++++++++++++++++\nX_trainset shape : (721, 8)\ny_trainset shape : (721,)\nX_testset shape : (309, 8)\ny_testset shape : (309,)\nMean squared error: 1500.85\n\n++++++++++++++++++++++++++++++++++++++++++++++++\nStep : 4\n++++++++++++++++++++++++++++++++++++++++++++++++\nX_trainset shape : (721, 8)\ny_trainset shape : (721,)\nX_testset shape : (309, 8)\ny_testset shape : (309,)\nMean squared error: 1454.37\n\n++++++++++++++++++++++++++++++++++++++++++++++++\nStep : 5\n++++++++++++++++++++++++++++++++++++++++++++++++\nX_trainset shape : (721, 8)\ny_trainset shape : (721,)\nX_testset shape : (309, 8)\ny_testset shape : (309,)\nMean squared error: 1430.54\n\n++++++++++++++++++++++++++++++++++++++++++++++++\nStep : 6\n++++++++++++++++++++++++++++++++++++++++++++++++\nX_trainset shape : (721, 8)\ny_trainset shape : (721,)\nX_testset shape : (309, 8)\ny_testset shape : (309,)\nMean squared error: 1677.86\n\n++++++++++++++++++++++++++++++++++++++++++++++++\nStep : 7\n++++++++++++++++++++++++++++++++++++++++++++++++\nX_trainset shape : (721, 8)\ny_trainset shape : (721,)\nX_testset shape : (309, 8)\ny_testset shape : (309,)\nMean squared error: 1443.42\n\n++++++++++++++++++++++++++++++++++++++++++++++++\nStep : 8\n++++++++++++++++++++++++++++++++++++++++++++++++\nX_trainset shape : (721, 8)\ny_trainset shape : (721,)\nX_testset shape : (309, 8)\ny_testset shape : (309,)\nMean squared error: 1519.83\n\n++++++++++++++++++++++++++++++++++++++++++++++++\nStep : 9\n++++++++++++++++++++++++++++++++++++++++++++++++\nX_trainset shape : (721, 8)\ny_trainset shape : (721,)\nX_testset shape : (309, 8)\ny_testset shape : (309,)\nMean squared error: 1491.96\n\n++++++++++++++++++++++++++++++++++++++++++++++++\nStep : 10\n++++++++++++++++++++++++++++++++++++++++++++++++\nX_trainset shape : (721, 8)\ny_trainset shape : (721,)\nX_testset shape : (309, 8)\ny_testset shape : (309,)\nMean squared error: 1493.39\n\n++++++++++++++++++++++++++++++++++++++++++++++++\nStep : 11\n++++++++++++++++++++++++++++++++++++++++++++++++\nX_trainset shape : (721, 8)\ny_trainset shape : (721,)\nX_testset shape : (309, 8)\ny_testset shape : (309,)\nMean squared error: 1396.96\n\n++++++++++++++++++++++++++++++++++++++++++++++++\nStep : 12\n++++++++++++++++++++++++++++++++++++++++++++++++\nX_trainset shape : (721, 8)\ny_trainset shape : (721,)\nX_testset shape : (309, 8)\ny_testset shape : (309,)\nMean squared error: 1475.14\n\n++++++++++++++++++++++++++++++++++++++++++++++++\nStep : 13\n++++++++++++++++++++++++++++++++++++++++++++++++\nX_trainset shape : (721, 8)\ny_trainset shape : (721,)\nX_testset shape : (309, 8)\ny_testset shape : (309,)\nMean squared error: 1537.22\n\n++++++++++++++++++++++++++++++++++++++++++++++++\nStep : 14\n++++++++++++++++++++++++++++++++++++++++++++++++\nX_trainset shape : (721, 8)\ny_trainset shape : (721,)\nX_testset shape : (309, 8)\ny_testset shape : (309,)\nMean squared error: 1535.44\n\n++++++++++++++++++++++++++++++++++++++++++++++++\nStep : 15\n++++++++++++++++++++++++++++++++++++++++++++++++\nX_trainset shape : (721, 8)\ny_trainset shape : (721,)\nX_testset shape : (309, 8)\ny_testset shape : (309,)\nMean squared error: 1425.52\n\n++++++++++++++++++++++++++++++++++++++++++++++++\nStep : 16\n++++++++++++++++++++++++++++++++++++++++++++++++\nX_trainset shape : (721, 8)\ny_trainset shape : (721,)\nX_testset shape : (309, 8)\ny_testset shape : (309,)\nMean squared error: 1412.74\n\n++++++++++++++++++++++++++++++++++++++++++++++++\nStep : 17\n++++++++++++++++++++++++++++++++++++++++++++++++\nX_trainset shape : (721, 8)\ny_trainset shape : (721,)\nX_testset shape : (309, 8)\ny_testset shape : (309,)\nMean squared error: 1530.29\n\n++++++++++++++++++++++++++++++++++++++++++++++++\nStep : 18\n++++++++++++++++++++++++++++++++++++++++++++++++\nX_trainset shape : (721, 8)\ny_trainset shape : (721,)\nX_testset shape : (309, 8)\ny_testset shape : (309,)\nMean squared error: 1495.60\n\n++++++++++++++++++++++++++++++++++++++++++++++++\nStep : 19\n++++++++++++++++++++++++++++++++++++++++++++++++\nX_trainset shape : (721, 8)\ny_trainset shape : (721,)\nX_testset shape : (309, 8)\ny_testset shape : (309,)\nMean squared error: 1553.91\n\n++++++++++++++++++++++++++++++++++++++++++++++++\nStep : 20\n++++++++++++++++++++++++++++++++++++++++++++++++\nX_trainset shape : (721, 8)\ny_trainset shape : (721,)\nX_testset shape : (309, 8)\ny_testset shape : (309,)\nMean squared error: 1541.34\n\n++++++++++++++++++++++++++++++++++++++++++++++++\nStep : 21\n++++++++++++++++++++++++++++++++++++++++++++++++\nX_trainset shape : (721, 8)\ny_trainset shape : (721,)\nX_testset shape : (309, 8)\ny_testset shape : (309,)\nMean squared error: 1544.02\n\n++++++++++++++++++++++++++++++++++++++++++++++++\nStep : 22\n++++++++++++++++++++++++++++++++++++++++++++++++\nX_trainset shape : (721, 8)\ny_trainset shape : (721,)\nX_testset shape : (309, 8)\ny_testset shape : (309,)\nMean squared error: 1532.28\n\n++++++++++++++++++++++++++++++++++++++++++++++++\nStep : 23\n++++++++++++++++++++++++++++++++++++++++++++++++\nX_trainset shape : (721, 8)\ny_trainset shape : (721,)\nX_testset shape : (309, 8)\ny_testset shape : (309,)\nMean squared error: 1547.19\n\n++++++++++++++++++++++++++++++++++++++++++++++++\nStep : 24\n++++++++++++++++++++++++++++++++++++++++++++++++\nX_trainset shape : (721, 8)\ny_trainset shape : (721,)\nX_testset shape : (309, 8)\ny_testset shape : (309,)\nMean squared error: 1440.88\n\n++++++++++++++++++++++++++++++++++++++++++++++++\nStep : 25\n++++++++++++++++++++++++++++++++++++++++++++++++\nX_trainset shape : (721, 8)\ny_trainset shape : (721,)\nX_testset shape : (309, 8)\ny_testset shape : (309,)\nMean squared error: 1468.44\n\n++++++++++++++++++++++++++++++++++++++++++++++++\nStep : 26\n++++++++++++++++++++++++++++++++++++++++++++++++\nX_trainset shape : (721, 8)\ny_trainset shape : (721,)\nX_testset shape : (309, 8)\ny_testset shape : (309,)\nMean squared error: 1537.35\n\n++++++++++++++++++++++++++++++++++++++++++++++++\nStep : 27\n++++++++++++++++++++++++++++++++++++++++++++++++\nX_trainset shape : (721, 8)\ny_trainset shape : (721,)\nX_testset shape : (309, 8)\ny_testset shape : (309,)\nMean squared error: 1445.05\n\n++++++++++++++++++++++++++++++++++++++++++++++++\nStep : 28\n++++++++++++++++++++++++++++++++++++++++++++++++\nX_trainset shape : (721, 8)\ny_trainset shape : (721,)\nX_testset shape : (309, 8)\ny_testset shape : (309,)\nMean squared error: 1617.30\n\n++++++++++++++++++++++++++++++++++++++++++++++++\nStep : 29\n++++++++++++++++++++++++++++++++++++++++++++++++\nX_trainset shape : (721, 8)\ny_trainset shape : (721,)\nX_testset shape : (309, 8)\ny_testset shape : (309,)\nMean squared error: 1533.45\n\n++++++++++++++++++++++++++++++++++++++++++++++++\nStep : 30\n++++++++++++++++++++++++++++++++++++++++++++++++\nX_trainset shape : (721, 8)\ny_trainset shape : (721,)\nX_testset shape : (309, 8)\ny_testset shape : (309,)\nMean squared error: 1546.24\n\n++++++++++++++++++++++++++++++++++++++++++++++++\nStep : 31\n++++++++++++++++++++++++++++++++++++++++++++++++\nX_trainset shape : (721, 8)\ny_trainset shape : (721,)\nX_testset shape : (309, 8)\ny_testset shape : (309,)\nMean squared error: 1443.15\n\n++++++++++++++++++++++++++++++++++++++++++++++++\nStep : 32\n++++++++++++++++++++++++++++++++++++++++++++++++\nX_trainset shape : (721, 8)\ny_trainset shape : (721,)\nX_testset shape : (309, 8)\ny_testset shape : (309,)\nMean squared error: 1466.12\n\n++++++++++++++++++++++++++++++++++++++++++++++++\nStep : 33\n++++++++++++++++++++++++++++++++++++++++++++++++\nX_trainset shape : (721, 8)\ny_trainset shape : (721,)\nX_testset shape : (309, 8)\ny_testset shape : (309,)\nMean squared error: 1502.54\n\n++++++++++++++++++++++++++++++++++++++++++++++++\nStep : 34\n++++++++++++++++++++++++++++++++++++++++++++++++\nX_trainset shape : (721, 8)\ny_trainset shape : (721,)\nX_testset shape : (309, 8)\ny_testset shape : (309,)\nMean squared error: 1525.32\n\n++++++++++++++++++++++++++++++++++++++++++++++++\nStep : 35\n++++++++++++++++++++++++++++++++++++++++++++++++\nX_trainset shape : (721, 8)\ny_trainset shape : (721,)\nX_testset shape : (309, 8)\ny_testset shape : (309,)\nMean squared error: 1525.13\n\n++++++++++++++++++++++++++++++++++++++++++++++++\nStep : 36\n++++++++++++++++++++++++++++++++++++++++++++++++\nX_trainset shape : (721, 8)\ny_trainset shape : (721,)\nX_testset shape : (309, 8)\ny_testset shape : (309,)\nMean squared error: 1482.08\n\n++++++++++++++++++++++++++++++++++++++++++++++++\nStep : 37\n++++++++++++++++++++++++++++++++++++++++++++++++\nX_trainset shape : (721, 8)\ny_trainset shape : (721,)\nX_testset shape : (309, 8)\ny_testset shape : (309,)\nMean squared error: 1468.54\n\n++++++++++++++++++++++++++++++++++++++++++++++++\nStep : 38\n++++++++++++++++++++++++++++++++++++++++++++++++\nX_trainset shape : (721, 8)\ny_trainset shape : (721,)\nX_testset shape : (309, 8)\ny_testset shape : (309,)\nMean squared error: 1529.75\n\n++++++++++++++++++++++++++++++++++++++++++++++++\nStep : 39\n++++++++++++++++++++++++++++++++++++++++++++++++\nX_trainset shape : (721, 8)\ny_trainset shape : (721,)\nX_testset shape : (309, 8)\ny_testset shape : (309,)\nMean squared error: 1459.23\n\n++++++++++++++++++++++++++++++++++++++++++++++++\nStep : 40\n++++++++++++++++++++++++++++++++++++++++++++++++\nX_trainset shape : (721, 8)\ny_trainset shape : (721,)\nX_testset shape : (309, 8)\ny_testset shape : (309,)\nMean squared error: 1521.08\n\n++++++++++++++++++++++++++++++++++++++++++++++++\nStep : 41\n++++++++++++++++++++++++++++++++++++++++++++++++\nX_trainset shape : (721, 8)\ny_trainset shape : (721,)\nX_testset shape : (309, 8)\ny_testset shape : (309,)\nMean squared error: 1410.29\n\n++++++++++++++++++++++++++++++++++++++++++++++++\nStep : 42\n++++++++++++++++++++++++++++++++++++++++++++++++\nX_trainset shape : (721, 8)\ny_trainset shape : (721,)\nX_testset shape : (309, 8)\ny_testset shape : (309,)\nMean squared error: 1429.08\n\n++++++++++++++++++++++++++++++++++++++++++++++++\nStep : 43\n++++++++++++++++++++++++++++++++++++++++++++++++\nX_trainset shape : (721, 8)\ny_trainset shape : (721,)\nX_testset shape : (309, 8)\ny_testset shape : (309,)\nMean squared error: 1554.97\n\n++++++++++++++++++++++++++++++++++++++++++++++++\nStep : 44\n++++++++++++++++++++++++++++++++++++++++++++++++\nX_trainset shape : (721, 8)\ny_trainset shape : (721,)\nX_testset shape : (309, 8)\ny_testset shape : (309,)\nMean squared error: 1460.28\n\n++++++++++++++++++++++++++++++++++++++++++++++++\nStep : 45\n++++++++++++++++++++++++++++++++++++++++++++++++\nX_trainset shape : (721, 8)\ny_trainset shape : (721,)\nX_testset shape : (309, 8)\ny_testset shape : (309,)\nMean squared error: 1468.82\n\n++++++++++++++++++++++++++++++++++++++++++++++++\nStep : 46\n++++++++++++++++++++++++++++++++++++++++++++++++\nX_trainset shape : (721, 8)\ny_trainset shape : (721,)\nX_testset shape : (309, 8)\ny_testset shape : (309,)\nMean squared error: 1487.48\n\n++++++++++++++++++++++++++++++++++++++++++++++++\nStep : 47\n++++++++++++++++++++++++++++++++++++++++++++++++\nX_trainset shape : (721, 8)\ny_trainset shape : (721,)\nX_testset shape : (309, 8)\ny_testset shape : (309,)\nMean squared error: 1534.05\n\n++++++++++++++++++++++++++++++++++++++++++++++++\nStep : 48\n++++++++++++++++++++++++++++++++++++++++++++++++\nX_trainset shape : (721, 8)\ny_trainset shape : (721,)\nX_testset shape : (309, 8)\ny_testset shape : (309,)\nMean squared error: 1533.00\n\n++++++++++++++++++++++++++++++++++++++++++++++++\nStep : 49\n++++++++++++++++++++++++++++++++++++++++++++++++\nX_trainset shape : (721, 8)\ny_trainset shape : (721,)\nX_testset shape : (309, 8)\ny_testset shape : (309,)\nMean squared error: 1484.05\n\n++++++++++++++++++++++++++++++++++++++++++++++++\nStep : 50\n++++++++++++++++++++++++++++++++++++++++++++++++\nX_trainset shape : (721, 8)\ny_trainset shape : (721,)\nX_testset shape : (309, 8)\ny_testset shape : (309,)\nMean squared error: 1418.68\n\n"
                }
            ],
            "source": "# experiment 50 times \nmetrics = regression_model_evaluatioin(50)"
        },
        {
            "cell_type": "markdown",
            "metadata": {},
            "source": "#### the report the mean and the standard deviation of the mean squared errors."
        },
        {
            "cell_type": "code",
            "execution_count": 17,
            "metadata": {},
            "outputs": [],
            "source": "mean = np.mean(metrics)\nstd = np.std(metrics)"
        },
        {
            "cell_type": "code",
            "execution_count": 18,
            "metadata": {},
            "outputs": [
                {
                    "name": "stdout",
                    "output_type": "stream",
                    "text": "++++++++++++++++++++++++++++++++++++++++++++++++\nmean of squared errors : 1496.0535446148863\nstandard deviation of squared errors : 53.9245560117099\n"
                }
            ],
            "source": "print(\"++++++++++++++++++++++++++++++++++++++++++++++++\")\nprint(\"mean of squared errors : {}\".format(mean))\nprint(\"standard deviation of squared errors : {}\".format(std))"
        },
        {
            "cell_type": "code",
            "execution_count": null,
            "metadata": {},
            "outputs": [],
            "source": ""
        }
    ],
    "metadata": {
        "kernelspec": {
            "display_name": "Python 3.6",
            "language": "python",
            "name": "python3"
        },
        "language_info": {
            "codemirror_mode": {
                "name": "ipython",
                "version": 3
            },
            "file_extension": ".py",
            "mimetype": "text/x-python",
            "name": "python",
            "nbconvert_exporter": "python",
            "pygments_lexer": "ipython3",
            "version": "3.6.8"
        }
    },
    "nbformat": 4,
    "nbformat_minor": 1
}