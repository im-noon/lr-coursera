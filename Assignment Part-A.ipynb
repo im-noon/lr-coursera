{
    "cells": [
        {
            "cell_type": "markdown",
            "metadata": {
                "collapsed": true
            },
            "source": "## Build a Regression Model in Keras Path: A"
        },
        {
            "cell_type": "markdown",
            "metadata": {},
            "source": "## Table of Contents\n\n<div class=\"alert alert-block alert-info\" style=\"margin-top: 20px\">\n\n<font size = 3>\n      \n1. <a href=\"#instructions\">Instructions</a>   \n2. <a href=\"#about_dataset\">About the dataset</a>  \n3. <a href=\"#prepare_data\">Prepare the data</a>  \n4. <a href=\"#helper_function\">Helper function</a> \n5. <a href=\"#train_the_model\">Train and test regression model</a> <br> \n6. <a href=\"#report\">Report Model performance</a>  <br>\n</font>\n</div>"
        },
        {
            "cell_type": "markdown",
            "metadata": {},
            "source": "<h2 id=\"instructions\">Instructions</h2>\nThis assignment is to build a regression model in Keras with followingz:\n\n<div>\n    \n- use a baseline data.\n- One hidden layer of 10 nodes, and a ReLU activation function.\n- Use the adam optimizer and the mean squared error as the loss function.\n\n1.Randomly split the data into a training and test sets by holding 30% of the data for testing.\n\n2.Train the model on the training data using 50 epochs.\n\n3.Evaluate the model on the test data and compute the mean squared error between the predicted concrete strength and the actual concrete strength. \n\n4.Repeat steps 1 - 3, 50 times, i.e., create a list of 50 mean squared errors.\n\n5.Report the mean and the standard deviation of the mean squared errors.\n</div>"
        },
        {
            "cell_type": "markdown",
            "metadata": {},
            "source": "import required libraries:"
        },
        {
            "cell_type": "code",
            "execution_count": 1,
            "metadata": {},
            "outputs": [],
            "source": "import pandas as pd\nimport numpy as np\nimport pylab as pl"
        },
        {
            "cell_type": "markdown",
            "metadata": {},
            "source": "<h2 id=\"about_dataset\">About the dataset</h2>\n<strong>The dataset is about the compressive strength of different samples of concrete based on the volumes of the different predictors that were used to make them. The predictors include:</strong>\n\n<strong>1. Cement</strong><br>\n<strong>2. Blast Furnace Slag</strong><br>\n<strong>3. Fly Ash</strong><br>\n<strong>4. Water</strong><br>\n<strong>5. Superplasticizer</strong><br>\n<strong>6. Coarse Aggregate</strong><br>\n<strong>7. Fine Aggregate</strong><br>\nthe data can be found here again: https://cocl.us/concrete_data."
        },
        {
            "cell_type": "markdown",
            "metadata": {},
            "source": "Let's download the data and read it into a pandas dataframe."
        },
        {
            "cell_type": "markdown",
            "metadata": {},
            "source": "<h2 id=\"prepare_data\">Prepare the data</h2>"
        },
        {
            "cell_type": "code",
            "execution_count": 2,
            "metadata": {},
            "outputs": [
                {
                    "data": {
                        "text/html": "<div>\n<style scoped>\n    .dataframe tbody tr th:only-of-type {\n        vertical-align: middle;\n    }\n\n    .dataframe tbody tr th {\n        vertical-align: top;\n    }\n\n    .dataframe thead th {\n        text-align: right;\n    }\n</style>\n<table border=\"1\" class=\"dataframe\">\n  <thead>\n    <tr style=\"text-align: right;\">\n      <th></th>\n      <th>Cement</th>\n      <th>Blast Furnace Slag</th>\n      <th>Fly Ash</th>\n      <th>Water</th>\n      <th>Superplasticizer</th>\n      <th>Coarse Aggregate</th>\n      <th>Fine Aggregate</th>\n      <th>Age</th>\n      <th>Strength</th>\n    </tr>\n  </thead>\n  <tbody>\n    <tr>\n      <th>0</th>\n      <td>540.0</td>\n      <td>0.0</td>\n      <td>0.0</td>\n      <td>162.0</td>\n      <td>2.5</td>\n      <td>1040.0</td>\n      <td>676.0</td>\n      <td>28</td>\n      <td>79.99</td>\n    </tr>\n    <tr>\n      <th>1</th>\n      <td>540.0</td>\n      <td>0.0</td>\n      <td>0.0</td>\n      <td>162.0</td>\n      <td>2.5</td>\n      <td>1055.0</td>\n      <td>676.0</td>\n      <td>28</td>\n      <td>61.89</td>\n    </tr>\n    <tr>\n      <th>2</th>\n      <td>332.5</td>\n      <td>142.5</td>\n      <td>0.0</td>\n      <td>228.0</td>\n      <td>0.0</td>\n      <td>932.0</td>\n      <td>594.0</td>\n      <td>270</td>\n      <td>40.27</td>\n    </tr>\n    <tr>\n      <th>3</th>\n      <td>332.5</td>\n      <td>142.5</td>\n      <td>0.0</td>\n      <td>228.0</td>\n      <td>0.0</td>\n      <td>932.0</td>\n      <td>594.0</td>\n      <td>365</td>\n      <td>41.05</td>\n    </tr>\n    <tr>\n      <th>4</th>\n      <td>198.6</td>\n      <td>132.4</td>\n      <td>0.0</td>\n      <td>192.0</td>\n      <td>0.0</td>\n      <td>978.4</td>\n      <td>825.5</td>\n      <td>360</td>\n      <td>44.30</td>\n    </tr>\n  </tbody>\n</table>\n</div>",
                        "text/plain": "   Cement  Blast Furnace Slag  Fly Ash  Water  Superplasticizer  \\\n0   540.0                 0.0      0.0  162.0               2.5   \n1   540.0                 0.0      0.0  162.0               2.5   \n2   332.5               142.5      0.0  228.0               0.0   \n3   332.5               142.5      0.0  228.0               0.0   \n4   198.6               132.4      0.0  192.0               0.0   \n\n   Coarse Aggregate  Fine Aggregate  Age  Strength  \n0            1040.0           676.0   28     79.99  \n1            1055.0           676.0   28     61.89  \n2             932.0           594.0  270     40.27  \n3             932.0           594.0  365     41.05  \n4             978.4           825.5  360     44.30  "
                    },
                    "execution_count": 2,
                    "metadata": {},
                    "output_type": "execute_result"
                }
            ],
            "source": "concrete_data = pd.read_csv('https://cocl.us/concrete_data/concrete_data.csv')\nconcrete_data.head()"
        },
        {
            "cell_type": "markdown",
            "metadata": {},
            "source": "#### Let's check how many data points we have."
        },
        {
            "cell_type": "code",
            "execution_count": 3,
            "metadata": {},
            "outputs": [
                {
                    "data": {
                        "text/plain": "(1030, 9)"
                    },
                    "execution_count": 3,
                    "metadata": {},
                    "output_type": "execute_result"
                }
            ],
            "source": "concrete_data.shape"
        },
        {
            "cell_type": "markdown",
            "metadata": {},
            "source": "There are 1030 samples of dataset, it quite a few samples, we have to be careful not to overfit the training data.\n"
        },
        {
            "cell_type": "code",
            "execution_count": 4,
            "metadata": {},
            "outputs": [
                {
                    "data": {
                        "text/html": "<div>\n<style scoped>\n    .dataframe tbody tr th:only-of-type {\n        vertical-align: middle;\n    }\n\n    .dataframe tbody tr th {\n        vertical-align: top;\n    }\n\n    .dataframe thead th {\n        text-align: right;\n    }\n</style>\n<table border=\"1\" class=\"dataframe\">\n  <thead>\n    <tr style=\"text-align: right;\">\n      <th></th>\n      <th>Cement</th>\n      <th>Blast Furnace Slag</th>\n      <th>Fly Ash</th>\n      <th>Water</th>\n      <th>Superplasticizer</th>\n      <th>Coarse Aggregate</th>\n      <th>Fine Aggregate</th>\n      <th>Age</th>\n      <th>Strength</th>\n    </tr>\n  </thead>\n  <tbody>\n    <tr>\n      <th>count</th>\n      <td>1030.000000</td>\n      <td>1030.000000</td>\n      <td>1030.000000</td>\n      <td>1030.000000</td>\n      <td>1030.000000</td>\n      <td>1030.000000</td>\n      <td>1030.000000</td>\n      <td>1030.000000</td>\n      <td>1030.000000</td>\n    </tr>\n    <tr>\n      <th>mean</th>\n      <td>281.167864</td>\n      <td>73.895825</td>\n      <td>54.188350</td>\n      <td>181.567282</td>\n      <td>6.204660</td>\n      <td>972.918932</td>\n      <td>773.580485</td>\n      <td>45.662136</td>\n      <td>35.817961</td>\n    </tr>\n    <tr>\n      <th>std</th>\n      <td>104.506364</td>\n      <td>86.279342</td>\n      <td>63.997004</td>\n      <td>21.354219</td>\n      <td>5.973841</td>\n      <td>77.753954</td>\n      <td>80.175980</td>\n      <td>63.169912</td>\n      <td>16.705742</td>\n    </tr>\n    <tr>\n      <th>min</th>\n      <td>102.000000</td>\n      <td>0.000000</td>\n      <td>0.000000</td>\n      <td>121.800000</td>\n      <td>0.000000</td>\n      <td>801.000000</td>\n      <td>594.000000</td>\n      <td>1.000000</td>\n      <td>2.330000</td>\n    </tr>\n    <tr>\n      <th>25%</th>\n      <td>192.375000</td>\n      <td>0.000000</td>\n      <td>0.000000</td>\n      <td>164.900000</td>\n      <td>0.000000</td>\n      <td>932.000000</td>\n      <td>730.950000</td>\n      <td>7.000000</td>\n      <td>23.710000</td>\n    </tr>\n    <tr>\n      <th>50%</th>\n      <td>272.900000</td>\n      <td>22.000000</td>\n      <td>0.000000</td>\n      <td>185.000000</td>\n      <td>6.400000</td>\n      <td>968.000000</td>\n      <td>779.500000</td>\n      <td>28.000000</td>\n      <td>34.445000</td>\n    </tr>\n    <tr>\n      <th>75%</th>\n      <td>350.000000</td>\n      <td>142.950000</td>\n      <td>118.300000</td>\n      <td>192.000000</td>\n      <td>10.200000</td>\n      <td>1029.400000</td>\n      <td>824.000000</td>\n      <td>56.000000</td>\n      <td>46.135000</td>\n    </tr>\n    <tr>\n      <th>max</th>\n      <td>540.000000</td>\n      <td>359.400000</td>\n      <td>200.100000</td>\n      <td>247.000000</td>\n      <td>32.200000</td>\n      <td>1145.000000</td>\n      <td>992.600000</td>\n      <td>365.000000</td>\n      <td>82.600000</td>\n    </tr>\n  </tbody>\n</table>\n</div>",
                        "text/plain": "            Cement  Blast Furnace Slag      Fly Ash        Water  \\\ncount  1030.000000         1030.000000  1030.000000  1030.000000   \nmean    281.167864           73.895825    54.188350   181.567282   \nstd     104.506364           86.279342    63.997004    21.354219   \nmin     102.000000            0.000000     0.000000   121.800000   \n25%     192.375000            0.000000     0.000000   164.900000   \n50%     272.900000           22.000000     0.000000   185.000000   \n75%     350.000000          142.950000   118.300000   192.000000   \nmax     540.000000          359.400000   200.100000   247.000000   \n\n       Superplasticizer  Coarse Aggregate  Fine Aggregate          Age  \\\ncount       1030.000000       1030.000000     1030.000000  1030.000000   \nmean           6.204660        972.918932      773.580485    45.662136   \nstd            5.973841         77.753954       80.175980    63.169912   \nmin            0.000000        801.000000      594.000000     1.000000   \n25%            0.000000        932.000000      730.950000     7.000000   \n50%            6.400000        968.000000      779.500000    28.000000   \n75%           10.200000       1029.400000      824.000000    56.000000   \nmax           32.200000       1145.000000      992.600000   365.000000   \n\n          Strength  \ncount  1030.000000  \nmean     35.817961  \nstd      16.705742  \nmin       2.330000  \n25%      23.710000  \n50%      34.445000  \n75%      46.135000  \nmax      82.600000  "
                    },
                    "execution_count": 4,
                    "metadata": {},
                    "output_type": "execute_result"
                }
            ],
            "source": "concrete_data.describe()"
        },
        {
            "cell_type": "markdown",
            "metadata": {},
            "source": "Let's check the dataset for any missing values."
        },
        {
            "cell_type": "code",
            "execution_count": null,
            "metadata": {
                "scrolled": false
            },
            "outputs": [
                {
                    "data": {
                        "text/plain": "Cement                0\nBlast Furnace Slag    0\nFly Ash               0\nWater                 0\nSuperplasticizer      0\nCoarse Aggregate      0\nFine Aggregate        0\nAge                   0\nStrength              0\ndtype: int64"
                    },
                    "execution_count": 5,
                    "metadata": {},
                    "output_type": "execute_result"
                }
            ],
            "source": "concrete_data.isnull().sum()"
        },
        {
            "cell_type": "markdown",
            "metadata": {},
            "source": "Great!, our data looks very clean, next start to build our model."
        },
        {
            "cell_type": "markdown",
            "metadata": {},
            "source": "Let's import the rest of the library that we will need to build our regressoin model."
        },
        {
            "cell_type": "code",
            "execution_count": null,
            "metadata": {},
            "outputs": [
                {
                    "name": "stderr",
                    "output_type": "stream",
                    "text": "Using TensorFlow backend.\n"
                }
            ],
            "source": "import keras\nfrom keras.models import Sequential\nfrom keras.layers import Dense\nfrom keras.utils import to_categorical\nfrom sklearn.model_selection import train_test_split\nfrom sklearn.metrics import mean_squared_error"
        },
        {
            "cell_type": "markdown",
            "metadata": {},
            "source": "<h2 id=\"helper_function\">Helper function</h2>\ndefine helper function to create and test regression model"
        },
        {
            "cell_type": "code",
            "execution_count": null,
            "metadata": {},
            "outputs": [],
            "source": "# function to create train/stest dataset\ndef get_datatset(df, test_size, random):\n    \n    # get the column as feature\n    feature_columns = concrete_data.columns\n    \n    # get the features\n    X = df[feature_columns[feature_columns != 'Strength']] # all columns except Strength\n    \n    # get the label\n    y = df['Strength'] # Strength column\n    \n    return train_test_split(X, y, test_size=test_size, random_state=random)"
        },
        {
            "cell_type": "code",
            "execution_count": null,
            "metadata": {},
            "outputs": [],
            "source": "# function to verify datatset\ndef verify_dataset(X_trainset, X_testset, y_trainset, y_testset):\n    print(\"++++++++++++++++++++++++++++++++++++++++++++++++\")\n    print(\"X_trainset shape : {}\".format(X_trainset.shape))\n    print(\"y_trainset shape : {}\".format(y_trainset.shape))\n    print(\"X_testset shape : {}\".format(X_testset.shape))\n    print(\"y_testset shape : {}\".format(y_testset.shape))"
        },
        {
            "cell_type": "code",
            "execution_count": null,
            "metadata": {},
            "outputs": [],
            "source": "# regression model with \n# One hidden layer of 10 nodes, and a ReLU activation function\n# Use the adam optimizer and the mean squared error as the loss function.\ndef regression_model(input_shape):\n    # create model\n    model = Sequential()\n    model.add(Dense(10, activation ='relu', input_shape=(input_shape,)))\n    model.add(Dense(1))\n    \n    # compile model\n    model.compile(optimizer='adam', loss='mean_squared_error', metrics=['mse'])\n    return model"
        },
        {
            "cell_type": "code",
            "execution_count": null,
            "metadata": {},
            "outputs": [],
            "source": "# function to test model\ndef test_regression_model(model, X_trainset, X_testset, y_trainset, y_testset, num_epochs):\n    # number of input\n    input_shape = X_trainset.shape[1] \n    \n    # train model with trainginset\n    model.fit(X_trainset, y_trainset, epochs=num_epochs, verbose=0)\n    \n    # prediction with testing set\n    y_predict = model.predict_classes(X_testset)\n    \n    # get mean squared error\n    return mean_squared_error(y_testset, y_predict)"
        },
        {
            "cell_type": "markdown",
            "metadata": {},
            "source": "<h2 id=\"train_the_model\">Train and test regression model</h2>\nWe will proceed to evaluate our regression model for 50 iteration.\nEach iteration perform following:\n\n1. Randomly split the data into a training and test sets by holding 30% of the data for testing.\n\n2. Train the model on the training data using 50 epochs.\n\n3. Evaluate the model on the test data and compute the mean squared error between the predicted concrete strength and the actual concrete strength."
        },
        {
            "cell_type": "markdown",
            "metadata": {},
            "source": "### step 1. Randomly split the data into a training and test sets by holding 30% of the data for testing."
        },
        {
            "cell_type": "code",
            "execution_count": null,
            "metadata": {},
            "outputs": [],
            "source": "test_size = 0.3 # 30%"
        },
        {
            "cell_type": "markdown",
            "metadata": {},
            "source": "### step 2. Train the model on the training data using 50 epochs."
        },
        {
            "cell_type": "code",
            "execution_count": null,
            "metadata": {},
            "outputs": [],
            "source": "num_epochs = 50"
        },
        {
            "cell_type": "code",
            "execution_count": null,
            "metadata": {},
            "outputs": [
                {
                    "name": "stdout",
                    "output_type": "stream",
                    "text": "++++++++++++++++++++++++++++++++++++++++++++++++\nX_trainset shape : (721, 8)\ny_trainset shape : (721,)\nX_testset shape : (309, 8)\ny_testset shape : (309,)\nWARNING:tensorflow:From /opt/conda/envs/Python36/lib/python3.6/site-packages/tensorflow/python/framework/op_def_library.py:263: colocate_with (from tensorflow.python.framework.ops) is deprecated and will be removed in a future version.\nInstructions for updating:\nColocations handled automatically by placer.\nWARNING:tensorflow:From /opt/conda/envs/Python36/lib/python3.6/site-packages/tensorflow/python/ops/math_ops.py:3066: to_int32 (from tensorflow.python.ops.math_ops) is deprecated and will be removed in a future version.\nInstructions for updating:\nUse tf.cast instead.\n++++++++++++++++++++++++++++++++++++++++++++++++\nStep : 1 Mean squared error = 1515.9340449838187\n++++++++++++++++++++++++++++++++++++++++++++++++\nX_trainset shape : (721, 8)\ny_trainset shape : (721,)\nX_testset shape : (309, 8)\ny_testset shape : (309,)\n++++++++++++++++++++++++++++++++++++++++++++++++\nStep : 2 Mean squared error = 1454.50385987055\n++++++++++++++++++++++++++++++++++++++++++++++++\nX_trainset shape : (721, 8)\ny_trainset shape : (721,)\nX_testset shape : (309, 8)\ny_testset shape : (309,)\n++++++++++++++++++++++++++++++++++++++++++++++++\nStep : 3 Mean squared error = 1500.9889501618122\n++++++++++++++++++++++++++++++++++++++++++++++++\nX_trainset shape : (721, 8)\ny_trainset shape : (721,)\nX_testset shape : (309, 8)\ny_testset shape : (309,)\n++++++++++++++++++++++++++++++++++++++++++++++++\nStep : 4 Mean squared error = 1453.869817475728\n++++++++++++++++++++++++++++++++++++++++++++++++\nX_trainset shape : (721, 8)\ny_trainset shape : (721,)\nX_testset shape : (309, 8)\ny_testset shape : (309,)\n++++++++++++++++++++++++++++++++++++++++++++++++\nStep : 5 Mean squared error = 1430.5371553398058\n++++++++++++++++++++++++++++++++++++++++++++++++\nX_trainset shape : (721, 8)\ny_trainset shape : (721,)\nX_testset shape : (309, 8)\ny_testset shape : (309,)\n++++++++++++++++++++++++++++++++++++++++++++++++\nStep : 6 Mean squared error = 1660.6258372168286\n++++++++++++++++++++++++++++++++++++++++++++++++\nX_trainset shape : (721, 8)\ny_trainset shape : (721,)\nX_testset shape : (309, 8)\ny_testset shape : (309,)\n++++++++++++++++++++++++++++++++++++++++++++++++\nStep : 7 Mean squared error = 1440.2498372168284\n++++++++++++++++++++++++++++++++++++++++++++++++\nX_trainset shape : (721, 8)\ny_trainset shape : (721,)\nX_testset shape : (309, 8)\ny_testset shape : (309,)\n++++++++++++++++++++++++++++++++++++++++++++++++\nStep : 8 Mean squared error = 1515.8326116504854\n++++++++++++++++++++++++++++++++++++++++++++++++\nX_trainset shape : (721, 8)\ny_trainset shape : (721,)\nX_testset shape : (309, 8)\ny_testset shape : (309,)\n++++++++++++++++++++++++++++++++++++++++++++++++\nStep : 9 Mean squared error = 1483.4659129449838\n++++++++++++++++++++++++++++++++++++++++++++++++\nX_trainset shape : (721, 8)\ny_trainset shape : (721,)\nX_testset shape : (309, 8)\ny_testset shape : (309,)\n++++++++++++++++++++++++++++++++++++++++++++++++\nStep : 10 Mean squared error = 1493.3939265372167\n++++++++++++++++++++++++++++++++++++++++++++++++\nX_trainset shape : (721, 8)\ny_trainset shape : (721,)\nX_testset shape : (309, 8)\ny_testset shape : (309,)\n++++++++++++++++++++++++++++++++++++++++++++++++\nStep : 11 Mean squared error = 1396.958003236246\n++++++++++++++++++++++++++++++++++++++++++++++++\nX_trainset shape : (721, 8)\ny_trainset shape : (721,)\nX_testset shape : (309, 8)\ny_testset shape : (309,)\n++++++++++++++++++++++++++++++++++++++++++++++++\nStep : 12 Mean squared error = 1476.1767294498381\n++++++++++++++++++++++++++++++++++++++++++++++++\nX_trainset shape : (721, 8)\ny_trainset shape : (721,)\nX_testset shape : (309, 8)\ny_testset shape : (309,)\n++++++++++++++++++++++++++++++++++++++++++++++++\nStep : 13 Mean squared error = 1537.2216326860841\n++++++++++++++++++++++++++++++++++++++++++++++++\nX_trainset shape : (721, 8)\ny_trainset shape : (721,)\nX_testset shape : (309, 8)\ny_testset shape : (309,)\n++++++++++++++++++++++++++++++++++++++++++++++++\nStep : 14 Mean squared error = 1537.9127987055017\n++++++++++++++++++++++++++++++++++++++++++++++++\nX_trainset shape : (721, 8)\ny_trainset shape : (721,)\nX_testset shape : (309, 8)\ny_testset shape : (309,)\n++++++++++++++++++++++++++++++++++++++++++++++++\nStep : 15 Mean squared error = 1427.020964724919\n++++++++++++++++++++++++++++++++++++++++++++++++\nX_trainset shape : (721, 8)\ny_trainset shape : (721,)\nX_testset shape : (309, 8)\ny_testset shape : (309,)\n++++++++++++++++++++++++++++++++++++++++++++++++\nStep : 16 Mean squared error = 1400.289644012945\n++++++++++++++++++++++++++++++++++++++++++++++++\nX_trainset shape : (721, 8)\ny_trainset shape : (721,)\nX_testset shape : (309, 8)\ny_testset shape : (309,)\n++++++++++++++++++++++++++++++++++++++++++++++++\nStep : 17 Mean squared error = 1528.3007210355988\n++++++++++++++++++++++++++++++++++++++++++++++++\nX_trainset shape : (721, 8)\ny_trainset shape : (721,)\nX_testset shape : (309, 8)\ny_testset shape : (309,)\n++++++++++++++++++++++++++++++++++++++++++++++++\nStep : 18 Mean squared error = 1491.5926430420711\n++++++++++++++++++++++++++++++++++++++++++++++++\nX_trainset shape : (721, 8)\ny_trainset shape : (721,)\nX_testset shape : (309, 8)\ny_testset shape : (309,)\n++++++++++++++++++++++++++++++++++++++++++++++++\nStep : 19 Mean squared error = 1550.6585563106796\n++++++++++++++++++++++++++++++++++++++++++++++++\nX_trainset shape : (721, 8)\ny_trainset shape : (721,)\nX_testset shape : (309, 8)\ny_testset shape : (309,)\n++++++++++++++++++++++++++++++++++++++++++++++++\nStep : 20 Mean squared error = 1537.9569262135922\n++++++++++++++++++++++++++++++++++++++++++++++++\nX_trainset shape : (721, 8)\ny_trainset shape : (721,)\nX_testset shape : (309, 8)\ny_testset shape : (309,)\n++++++++++++++++++++++++++++++++++++++++++++++++\nStep : 21 Mean squared error = 1543.3194378640776\n++++++++++++++++++++++++++++++++++++++++++++++++\nX_trainset shape : (721, 8)\ny_trainset shape : (721,)\nX_testset shape : (309, 8)\ny_testset shape : (309,)\n++++++++++++++++++++++++++++++++++++++++++++++++\nStep : 22 Mean squared error = 1534.683473462783\n++++++++++++++++++++++++++++++++++++++++++++++++\nX_trainset shape : (721, 8)\ny_trainset shape : (721,)\nX_testset shape : (309, 8)\ny_testset shape : (309,)\n++++++++++++++++++++++++++++++++++++++++++++++++\nStep : 23 Mean squared error = 1547.1902087378642\n++++++++++++++++++++++++++++++++++++++++++++++++\nX_trainset shape : (721, 8)\ny_trainset shape : (721,)\nX_testset shape : (309, 8)\ny_testset shape : (309,)\n++++++++++++++++++++++++++++++++++++++++++++++++\nStep : 24 Mean squared error = 1432.6509886731392\n++++++++++++++++++++++++++++++++++++++++++++++++\nX_trainset shape : (721, 8)\ny_trainset shape : (721,)\nX_testset shape : (309, 8)\ny_testset shape : (309,)\n++++++++++++++++++++++++++++++++++++++++++++++++\nStep : 25 Mean squared error = 1465.0920275080907\n++++++++++++++++++++++++++++++++++++++++++++++++\nX_trainset shape : (721, 8)\ny_trainset shape : (721,)\nX_testset shape : (309, 8)\ny_testset shape : (309,)\n++++++++++++++++++++++++++++++++++++++++++++++++\nStep : 26 Mean squared error = 1537.720090291262\n++++++++++++++++++++++++++++++++++++++++++++++++\nX_trainset shape : (721, 8)\ny_trainset shape : (721,)\nX_testset shape : (309, 8)\ny_testset shape : (309,)\n++++++++++++++++++++++++++++++++++++++++++++++++\nStep : 27 Mean squared error = 1447.3986786407766\n++++++++++++++++++++++++++++++++++++++++++++++++\nX_trainset shape : (721, 8)\ny_trainset shape : (721,)\nX_testset shape : (309, 8)\ny_testset shape : (309,)\n++++++++++++++++++++++++++++++++++++++++++++++++\nStep : 28 Mean squared error = 1617.30301197411\n++++++++++++++++++++++++++++++++++++++++++++++++\nX_trainset shape : (721, 8)\ny_trainset shape : (721,)\nX_testset shape : (309, 8)\ny_testset shape : (309,)\n++++++++++++++++++++++++++++++++++++++++++++++++\nStep : 29 Mean squared error = 1533.8142213592234\n++++++++++++++++++++++++++++++++++++++++++++++++\nX_trainset shape : (721, 8)\ny_trainset shape : (721,)\nX_testset shape : (309, 8)\ny_testset shape : (309,)\n++++++++++++++++++++++++++++++++++++++++++++++++\nStep : 30 Mean squared error = 1547.6820407766988\n++++++++++++++++++++++++++++++++++++++++++++++++\nX_trainset shape : (721, 8)\ny_trainset shape : (721,)\nX_testset shape : (309, 8)\ny_testset shape : (309,)\n++++++++++++++++++++++++++++++++++++++++++++++++\nStep : 31 Mean squared error = 1448.8234226537218\n++++++++++++++++++++++++++++++++++++++++++++++++\nX_trainset shape : (721, 8)\ny_trainset shape : (721,)\nX_testset shape : (309, 8)\ny_testset shape : (309,)\n++++++++++++++++++++++++++++++++++++++++++++++++\nStep : 32 Mean squared error = 1466.8005187702265\n++++++++++++++++++++++++++++++++++++++++++++++++\nX_trainset shape : (721, 8)\ny_trainset shape : (721,)\nX_testset shape : (309, 8)\ny_testset shape : (309,)\n++++++++++++++++++++++++++++++++++++++++++++++++\nStep : 33 Mean squared error = 1502.544172815534\n++++++++++++++++++++++++++++++++++++++++++++++++\nX_trainset shape : (721, 8)\ny_trainset shape : (721,)\nX_testset shape : (309, 8)\ny_testset shape : (309,)\n++++++++++++++++++++++++++++++++++++++++++++++++\nStep : 34 Mean squared error = 1525.3219990291263\n++++++++++++++++++++++++++++++++++++++++++++++++\nX_trainset shape : (721, 8)\ny_trainset shape : (721,)\nX_testset shape : (309, 8)\ny_testset shape : (309,)\n++++++++++++++++++++++++++++++++++++++++++++++++\nStep : 35 Mean squared error = 1528.9253902912621\n++++++++++++++++++++++++++++++++++++++++++++++++\nX_trainset shape : (721, 8)\ny_trainset shape : (721,)\nX_testset shape : (309, 8)\ny_testset shape : (309,)\n++++++++++++++++++++++++++++++++++++++++++++++++\nStep : 36 Mean squared error = 1482.4314414239482\n++++++++++++++++++++++++++++++++++++++++++++++++\nX_trainset shape : (721, 8)\ny_trainset shape : (721,)\nX_testset shape : (309, 8)\ny_testset shape : (309,)\n++++++++++++++++++++++++++++++++++++++++++++++++\nStep : 37 Mean squared error = 1468.7273116504855\n++++++++++++++++++++++++++++++++++++++++++++++++\nX_trainset shape : (721, 8)\ny_trainset shape : (721,)\nX_testset shape : (309, 8)\ny_testset shape : (309,)\n++++++++++++++++++++++++++++++++++++++++++++++++\nStep : 38 Mean squared error = 1526.1204802588998\n++++++++++++++++++++++++++++++++++++++++++++++++\nX_trainset shape : (721, 8)\ny_trainset shape : (721,)\nX_testset shape : (309, 8)\ny_testset shape : (309,)\n++++++++++++++++++++++++++++++++++++++++++++++++\nStep : 39 Mean squared error = 1457.4606999999999\n++++++++++++++++++++++++++++++++++++++++++++++++\nX_trainset shape : (721, 8)\ny_trainset shape : (721,)\nX_testset shape : (309, 8)\ny_testset shape : (309,)\n++++++++++++++++++++++++++++++++++++++++++++++++\nStep : 40 Mean squared error = 1521.0764051779936\n++++++++++++++++++++++++++++++++++++++++++++++++\nX_trainset shape : (721, 8)\ny_trainset shape : (721,)\nX_testset shape : (309, 8)\ny_testset shape : (309,)\n++++++++++++++++++++++++++++++++++++++++++++++++\nStep : 41 Mean squared error = 1410.2926194174759\n++++++++++++++++++++++++++++++++++++++++++++++++\nX_trainset shape : (721, 8)\ny_trainset shape : (721,)\nX_testset shape : (309, 8)\ny_testset shape : (309,)\n++++++++++++++++++++++++++++++++++++++++++++++++\nStep : 42 Mean squared error = 1429.0799592233009\n++++++++++++++++++++++++++++++++++++++++++++++++\nX_trainset shape : (721, 8)\ny_trainset shape : (721,)\nX_testset shape : (309, 8)\ny_testset shape : (309,)\n++++++++++++++++++++++++++++++++++++++++++++++++\nStep : 43 Mean squared error = 1555.3204394822005\n++++++++++++++++++++++++++++++++++++++++++++++++\nX_trainset shape : (721, 8)\ny_trainset shape : (721,)\nX_testset shape : (309, 8)\ny_testset shape : (309,)\n++++++++++++++++++++++++++++++++++++++++++++++++\nStep : 44 Mean squared error = 1460.5347944983819\n++++++++++++++++++++++++++++++++++++++++++++++++\nX_trainset shape : (721, 8)\ny_trainset shape : (721,)\nX_testset shape : (309, 8)\ny_testset shape : (309,)\n"
                }
            ],
            "source": "# experiment 50 times \npath_a_metrics = []\n\n# iterate 50 times\nfor i in range(1, 50):\n    \n    \n    # get random training and testing data set baseline data\n    X_trainset, X_testset, y_trainset, y_testset = get_datatset(concrete_data, test_size, i)\n    \n    # validate dataset\n    verify_dataset(X_trainset, X_testset, y_trainset, y_testset)\n    \n    # get input shape\n    input_shape = X_trainset.shape[1] \n    \n    # build regression model\n    model = regression_model(input_shape)\n    \n    # evaluation compute the mean squared\n    mse = test_regression_model(model, X_trainset, X_testset, y_trainset, y_testset, num_epochs)\n    \n    path_a_metrics.append(mse)\n    print(\"++++++++++++++++++++++++++++++++++++++++++++++++\")\n    print(\"Step : {} Mean squared error = {}\".format(i, mse))"
        },
        {
            "cell_type": "markdown",
            "metadata": {},
            "source": "### step 3. Evaluate the model on the test data and compute the mean squared error between the predicted concrete strength and the actual concrete strength."
        },
        {
            "cell_type": "code",
            "execution_count": null,
            "metadata": {},
            "outputs": [],
            "source": "path_a_mean = np.mean(path_a_metrics)\npath_a_std = np.std(path_a_metrics)"
        },
        {
            "cell_type": "markdown",
            "metadata": {},
            "source": "<h2 id=\"report\">Report Model performance</h2>\nReport the mean and the standard deviation of the mean squared errors."
        },
        {
            "cell_type": "code",
            "execution_count": null,
            "metadata": {},
            "outputs": [],
            "source": "print(\"++++++++++++++++++++++++++++++++++++++++++++++++\")\nprint(\"mean of squared errors : {}\".format(path_a_mean))\nprint(\"standard deviation of squared errors : {}\".format(path_a_std))"
        }
    ],
    "metadata": {
        "kernelspec": {
            "display_name": "Python 3.6",
            "language": "python",
            "name": "python3"
        },
        "language_info": {
            "codemirror_mode": {
                "name": "ipython",
                "version": 3
            },
            "file_extension": ".py",
            "mimetype": "text/x-python",
            "name": "python",
            "nbconvert_exporter": "python",
            "pygments_lexer": "ipython3",
            "version": "3.6.8"
        }
    },
    "nbformat": 4,
    "nbformat_minor": 1
}