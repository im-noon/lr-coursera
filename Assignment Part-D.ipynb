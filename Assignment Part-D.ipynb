{
    "cells": [
        {
            "cell_type": "markdown",
            "metadata": {
                "collapsed": true
            },
            "source": "## Build a Regression Model in Keras Path: D"
        },
        {
            "cell_type": "markdown",
            "metadata": {},
            "source": "## Table of Contents\n\n<div class=\"alert alert-block alert-info\" style=\"margin-top: 20px\">\n\n<font size = 3>\n      \n1. <a href=\"#instructions\">Instructions</a>   \n2. <a href=\"#about_dataset\">About the dataset</a>  \n3. <a href=\"#prepare_data\">Prepare the data</a>  \n4. <a href=\"#helper_function\">Helper function</a> \n5. <a href=\"#normalized_dataset\">Normalized the data</a> <br>\n6. <a href=\"#train_the_model\">Train and test regression model</a> <br> \n7. <a href=\"#preport\">Report Model performance</a>  <br>\n</font>\n</div>"
        },
        {
            "cell_type": "markdown",
            "metadata": {},
            "source": "<h2 id=\"instructions\">Instructions</h2>\nThis assignment is to build a regression model in Keras with followingz:\n\n<div>\n    \n- Use a normalized version of the data.\n- Three hidden layers, each of 10 nodes and ReLU activation function.\n- Use the adam optimizer and the mean squared error as the loss function.\n\n1.Randomly split the data into a training and test sets by holding 30% of the data for testing.\n\n2.Train the model on the training data using 50 epochs.\n\n3.Evaluate the model on the test data and compute the mean squared error between the predicted concrete strength and the actual concrete strength. \n\n4.Repeat steps 1 - 3, 50 times, i.e., create a list of 50 mean squared errors.\n\n5.Report the mean and the standard deviation of the mean squared errors compare to that from Step B?\n\n</div>"
        },
        {
            "cell_type": "markdown",
            "metadata": {},
            "source": "import required libraries:"
        },
        {
            "cell_type": "code",
            "execution_count": 1,
            "metadata": {},
            "outputs": [],
            "source": "import pandas as pd\nimport numpy as np\nimport pylab as pl"
        },
        {
            "cell_type": "markdown",
            "metadata": {},
            "source": "<h2 id=\"about_dataset\">About the dataset</h2>\n<strong>The dataset is about the compressive strength of different samples of concrete based on the volumes of the different predictors that were used to make them. The predictors include:</strong>\n\n<strong>1. Cement</strong><br>\n<strong>2. Blast Furnace Slag</strong><br>\n<strong>3. Fly Ash</strong><br>\n<strong>4. Water</strong><br>\n<strong>5. Superplasticizer</strong><br>\n<strong>6. Coarse Aggregate</strong><br>\n<strong>7. Fine Aggregate</strong><br>\nthe data can be found here again: https://cocl.us/concrete_data."
        },
        {
            "cell_type": "markdown",
            "metadata": {},
            "source": "Let's download the data and read it into a pandas dataframe."
        },
        {
            "cell_type": "markdown",
            "metadata": {},
            "source": "<h2 id=\"prepare_data\">Prepare the data</h2>"
        },
        {
            "cell_type": "code",
            "execution_count": 2,
            "metadata": {},
            "outputs": [
                {
                    "data": {
                        "text/html": "<div>\n<style scoped>\n    .dataframe tbody tr th:only-of-type {\n        vertical-align: middle;\n    }\n\n    .dataframe tbody tr th {\n        vertical-align: top;\n    }\n\n    .dataframe thead th {\n        text-align: right;\n    }\n</style>\n<table border=\"1\" class=\"dataframe\">\n  <thead>\n    <tr style=\"text-align: right;\">\n      <th></th>\n      <th>Cement</th>\n      <th>Blast Furnace Slag</th>\n      <th>Fly Ash</th>\n      <th>Water</th>\n      <th>Superplasticizer</th>\n      <th>Coarse Aggregate</th>\n      <th>Fine Aggregate</th>\n      <th>Age</th>\n      <th>Strength</th>\n    </tr>\n  </thead>\n  <tbody>\n    <tr>\n      <th>0</th>\n      <td>540.0</td>\n      <td>0.0</td>\n      <td>0.0</td>\n      <td>162.0</td>\n      <td>2.5</td>\n      <td>1040.0</td>\n      <td>676.0</td>\n      <td>28</td>\n      <td>79.99</td>\n    </tr>\n    <tr>\n      <th>1</th>\n      <td>540.0</td>\n      <td>0.0</td>\n      <td>0.0</td>\n      <td>162.0</td>\n      <td>2.5</td>\n      <td>1055.0</td>\n      <td>676.0</td>\n      <td>28</td>\n      <td>61.89</td>\n    </tr>\n    <tr>\n      <th>2</th>\n      <td>332.5</td>\n      <td>142.5</td>\n      <td>0.0</td>\n      <td>228.0</td>\n      <td>0.0</td>\n      <td>932.0</td>\n      <td>594.0</td>\n      <td>270</td>\n      <td>40.27</td>\n    </tr>\n    <tr>\n      <th>3</th>\n      <td>332.5</td>\n      <td>142.5</td>\n      <td>0.0</td>\n      <td>228.0</td>\n      <td>0.0</td>\n      <td>932.0</td>\n      <td>594.0</td>\n      <td>365</td>\n      <td>41.05</td>\n    </tr>\n    <tr>\n      <th>4</th>\n      <td>198.6</td>\n      <td>132.4</td>\n      <td>0.0</td>\n      <td>192.0</td>\n      <td>0.0</td>\n      <td>978.4</td>\n      <td>825.5</td>\n      <td>360</td>\n      <td>44.30</td>\n    </tr>\n  </tbody>\n</table>\n</div>",
                        "text/plain": "   Cement  Blast Furnace Slag  Fly Ash  Water  Superplasticizer  \\\n0   540.0                 0.0      0.0  162.0               2.5   \n1   540.0                 0.0      0.0  162.0               2.5   \n2   332.5               142.5      0.0  228.0               0.0   \n3   332.5               142.5      0.0  228.0               0.0   \n4   198.6               132.4      0.0  192.0               0.0   \n\n   Coarse Aggregate  Fine Aggregate  Age  Strength  \n0            1040.0           676.0   28     79.99  \n1            1055.0           676.0   28     61.89  \n2             932.0           594.0  270     40.27  \n3             932.0           594.0  365     41.05  \n4             978.4           825.5  360     44.30  "
                    },
                    "execution_count": 2,
                    "metadata": {},
                    "output_type": "execute_result"
                }
            ],
            "source": "concrete_data = pd.read_csv('https://cocl.us/concrete_data/concrete_data.csv')\nconcrete_data.head()"
        },
        {
            "cell_type": "markdown",
            "metadata": {},
            "source": "#### Let's check how many data points we have."
        },
        {
            "cell_type": "code",
            "execution_count": 3,
            "metadata": {},
            "outputs": [
                {
                    "data": {
                        "text/plain": "(1030, 9)"
                    },
                    "execution_count": 3,
                    "metadata": {},
                    "output_type": "execute_result"
                }
            ],
            "source": "concrete_data.shape"
        },
        {
            "cell_type": "markdown",
            "metadata": {},
            "source": "There are 1030 samples of dataset, it quite a few samples, we have to be careful not to overfit the training data.\n"
        },
        {
            "cell_type": "code",
            "execution_count": 4,
            "metadata": {},
            "outputs": [
                {
                    "data": {
                        "text/html": "<div>\n<style scoped>\n    .dataframe tbody tr th:only-of-type {\n        vertical-align: middle;\n    }\n\n    .dataframe tbody tr th {\n        vertical-align: top;\n    }\n\n    .dataframe thead th {\n        text-align: right;\n    }\n</style>\n<table border=\"1\" class=\"dataframe\">\n  <thead>\n    <tr style=\"text-align: right;\">\n      <th></th>\n      <th>Cement</th>\n      <th>Blast Furnace Slag</th>\n      <th>Fly Ash</th>\n      <th>Water</th>\n      <th>Superplasticizer</th>\n      <th>Coarse Aggregate</th>\n      <th>Fine Aggregate</th>\n      <th>Age</th>\n      <th>Strength</th>\n    </tr>\n  </thead>\n  <tbody>\n    <tr>\n      <th>count</th>\n      <td>1030.000000</td>\n      <td>1030.000000</td>\n      <td>1030.000000</td>\n      <td>1030.000000</td>\n      <td>1030.000000</td>\n      <td>1030.000000</td>\n      <td>1030.000000</td>\n      <td>1030.000000</td>\n      <td>1030.000000</td>\n    </tr>\n    <tr>\n      <th>mean</th>\n      <td>281.167864</td>\n      <td>73.895825</td>\n      <td>54.188350</td>\n      <td>181.567282</td>\n      <td>6.204660</td>\n      <td>972.918932</td>\n      <td>773.580485</td>\n      <td>45.662136</td>\n      <td>35.817961</td>\n    </tr>\n    <tr>\n      <th>std</th>\n      <td>104.506364</td>\n      <td>86.279342</td>\n      <td>63.997004</td>\n      <td>21.354219</td>\n      <td>5.973841</td>\n      <td>77.753954</td>\n      <td>80.175980</td>\n      <td>63.169912</td>\n      <td>16.705742</td>\n    </tr>\n    <tr>\n      <th>min</th>\n      <td>102.000000</td>\n      <td>0.000000</td>\n      <td>0.000000</td>\n      <td>121.800000</td>\n      <td>0.000000</td>\n      <td>801.000000</td>\n      <td>594.000000</td>\n      <td>1.000000</td>\n      <td>2.330000</td>\n    </tr>\n    <tr>\n      <th>25%</th>\n      <td>192.375000</td>\n      <td>0.000000</td>\n      <td>0.000000</td>\n      <td>164.900000</td>\n      <td>0.000000</td>\n      <td>932.000000</td>\n      <td>730.950000</td>\n      <td>7.000000</td>\n      <td>23.710000</td>\n    </tr>\n    <tr>\n      <th>50%</th>\n      <td>272.900000</td>\n      <td>22.000000</td>\n      <td>0.000000</td>\n      <td>185.000000</td>\n      <td>6.400000</td>\n      <td>968.000000</td>\n      <td>779.500000</td>\n      <td>28.000000</td>\n      <td>34.445000</td>\n    </tr>\n    <tr>\n      <th>75%</th>\n      <td>350.000000</td>\n      <td>142.950000</td>\n      <td>118.300000</td>\n      <td>192.000000</td>\n      <td>10.200000</td>\n      <td>1029.400000</td>\n      <td>824.000000</td>\n      <td>56.000000</td>\n      <td>46.135000</td>\n    </tr>\n    <tr>\n      <th>max</th>\n      <td>540.000000</td>\n      <td>359.400000</td>\n      <td>200.100000</td>\n      <td>247.000000</td>\n      <td>32.200000</td>\n      <td>1145.000000</td>\n      <td>992.600000</td>\n      <td>365.000000</td>\n      <td>82.600000</td>\n    </tr>\n  </tbody>\n</table>\n</div>",
                        "text/plain": "            Cement  Blast Furnace Slag      Fly Ash        Water  \\\ncount  1030.000000         1030.000000  1030.000000  1030.000000   \nmean    281.167864           73.895825    54.188350   181.567282   \nstd     104.506364           86.279342    63.997004    21.354219   \nmin     102.000000            0.000000     0.000000   121.800000   \n25%     192.375000            0.000000     0.000000   164.900000   \n50%     272.900000           22.000000     0.000000   185.000000   \n75%     350.000000          142.950000   118.300000   192.000000   \nmax     540.000000          359.400000   200.100000   247.000000   \n\n       Superplasticizer  Coarse Aggregate  Fine Aggregate          Age  \\\ncount       1030.000000       1030.000000     1030.000000  1030.000000   \nmean           6.204660        972.918932      773.580485    45.662136   \nstd            5.973841         77.753954       80.175980    63.169912   \nmin            0.000000        801.000000      594.000000     1.000000   \n25%            0.000000        932.000000      730.950000     7.000000   \n50%            6.400000        968.000000      779.500000    28.000000   \n75%           10.200000       1029.400000      824.000000    56.000000   \nmax           32.200000       1145.000000      992.600000   365.000000   \n\n          Strength  \ncount  1030.000000  \nmean     35.817961  \nstd      16.705742  \nmin       2.330000  \n25%      23.710000  \n50%      34.445000  \n75%      46.135000  \nmax      82.600000  "
                    },
                    "execution_count": 4,
                    "metadata": {},
                    "output_type": "execute_result"
                }
            ],
            "source": "concrete_data.describe()"
        },
        {
            "cell_type": "markdown",
            "metadata": {},
            "source": "Let's check the dataset for any missing values."
        },
        {
            "cell_type": "code",
            "execution_count": 5,
            "metadata": {
                "scrolled": false
            },
            "outputs": [
                {
                    "data": {
                        "text/plain": "Cement                0\nBlast Furnace Slag    0\nFly Ash               0\nWater                 0\nSuperplasticizer      0\nCoarse Aggregate      0\nFine Aggregate        0\nAge                   0\nStrength              0\ndtype: int64"
                    },
                    "execution_count": 5,
                    "metadata": {},
                    "output_type": "execute_result"
                }
            ],
            "source": "concrete_data.isnull().sum()"
        },
        {
            "cell_type": "markdown",
            "metadata": {},
            "source": "Great!, our data looks very clean, next start to build our model."
        },
        {
            "cell_type": "markdown",
            "metadata": {},
            "source": "Let's import the rest of the library that we will need to build our regressoin model."
        },
        {
            "cell_type": "code",
            "execution_count": 6,
            "metadata": {},
            "outputs": [
                {
                    "name": "stderr",
                    "output_type": "stream",
                    "text": "Using TensorFlow backend.\n"
                }
            ],
            "source": "import keras\nfrom keras.models import Sequential\nfrom keras.layers import Dense\nfrom keras.utils import to_categorical\nfrom sklearn.model_selection import train_test_split\nfrom sklearn.metrics import mean_squared_error"
        },
        {
            "cell_type": "markdown",
            "metadata": {},
            "source": "<h2 id=\"helper_function\">Helper function</h2>\ndefine helper function to create and test regression model"
        },
        {
            "cell_type": "code",
            "execution_count": 7,
            "metadata": {},
            "outputs": [],
            "source": "# function to create train/stest dataset\ndef get_datatset(df, test_size, random):\n    \n    # get the column as feature\n    feature_columns = concrete_data.columns\n    \n    # get the features\n    X = df[feature_columns[feature_columns != 'Strength']] # all columns except Strength\n    \n    # get the label\n    y = df['Strength'] # Strength column\n    \n    return train_test_split(X, y, test_size=test_size, random_state=random)"
        },
        {
            "cell_type": "code",
            "execution_count": 8,
            "metadata": {},
            "outputs": [],
            "source": "# function to verify datatset\ndef verify_dataset(X_trainset, X_testset, y_trainset, y_testset):\n    print(\"++++++++++++++++++++++++++++++++++++++++++++++++\")\n    print(\"X_trainset shape : {}\".format(X_trainset.shape))\n    print(\"y_trainset shape : {}\".format(y_trainset.shape))\n    print(\"X_testset shape : {}\".format(X_testset.shape))\n    print(\"y_testset shape : {}\".format(y_testset.shape))"
        },
        {
            "cell_type": "code",
            "execution_count": 9,
            "metadata": {},
            "outputs": [],
            "source": "# regression model with \n# Three hidden layers, each of 10 nodes and ReLU activation function.\n# Use the adam optimizer and the mean squared error as the loss function.\ndef regression_model(input_shape):\n    # create model\n    model = Sequential()\n    model.add(Dense(10, activation='relu', input_shape=(input_shape,)))\n    model.add(Dense(10, activation='relu'))\n    model.add(Dense(10, activation='relu'))\n    model.add(Dense(1))\n    \n    # compile model\n    model.compile(optimizer='adam', loss='mean_squared_error', metrics=['mse'])\n    return model"
        },
        {
            "cell_type": "code",
            "execution_count": 10,
            "metadata": {},
            "outputs": [],
            "source": "# function to test model\ndef test_regression_model(model, X_trainset, X_testset, y_trainset, y_testset, num_epochs):\n    # number of input\n    input_shape = X_trainset.shape[1] \n    \n    # train model with trainginset\n    model.fit(X_trainset, y_trainset, epochs=num_epochs, verbose=0)\n    \n    # prediction with testing set\n    y_predict = model.predict_classes(X_testset)\n    \n    # get mean squared error\n    return mean_squared_error(y_testset, y_predict)"
        },
        {
            "cell_type": "markdown",
            "metadata": {},
            "source": "<h2 id=\"path_b_normalized_dataset\">Normalized the data</h2>\nNormalize the data is by subtracting the mean from the individual predictors and dividing by the standard deviation."
        },
        {
            "cell_type": "code",
            "execution_count": 11,
            "metadata": {},
            "outputs": [
                {
                    "data": {
                        "text/html": "<div>\n<style scoped>\n    .dataframe tbody tr th:only-of-type {\n        vertical-align: middle;\n    }\n\n    .dataframe tbody tr th {\n        vertical-align: top;\n    }\n\n    .dataframe thead th {\n        text-align: right;\n    }\n</style>\n<table border=\"1\" class=\"dataframe\">\n  <thead>\n    <tr style=\"text-align: right;\">\n      <th></th>\n      <th>Cement</th>\n      <th>Blast Furnace Slag</th>\n      <th>Fly Ash</th>\n      <th>Water</th>\n      <th>Superplasticizer</th>\n      <th>Coarse Aggregate</th>\n      <th>Fine Aggregate</th>\n      <th>Age</th>\n      <th>Strength</th>\n    </tr>\n  </thead>\n  <tbody>\n    <tr>\n      <th>0</th>\n      <td>540.0</td>\n      <td>0.0</td>\n      <td>0.0</td>\n      <td>162.0</td>\n      <td>2.5</td>\n      <td>1040.0</td>\n      <td>676.0</td>\n      <td>28</td>\n      <td>79.99</td>\n    </tr>\n    <tr>\n      <th>1</th>\n      <td>540.0</td>\n      <td>0.0</td>\n      <td>0.0</td>\n      <td>162.0</td>\n      <td>2.5</td>\n      <td>1055.0</td>\n      <td>676.0</td>\n      <td>28</td>\n      <td>61.89</td>\n    </tr>\n    <tr>\n      <th>2</th>\n      <td>332.5</td>\n      <td>142.5</td>\n      <td>0.0</td>\n      <td>228.0</td>\n      <td>0.0</td>\n      <td>932.0</td>\n      <td>594.0</td>\n      <td>270</td>\n      <td>40.27</td>\n    </tr>\n    <tr>\n      <th>3</th>\n      <td>332.5</td>\n      <td>142.5</td>\n      <td>0.0</td>\n      <td>228.0</td>\n      <td>0.0</td>\n      <td>932.0</td>\n      <td>594.0</td>\n      <td>365</td>\n      <td>41.05</td>\n    </tr>\n    <tr>\n      <th>4</th>\n      <td>198.6</td>\n      <td>132.4</td>\n      <td>0.0</td>\n      <td>192.0</td>\n      <td>0.0</td>\n      <td>978.4</td>\n      <td>825.5</td>\n      <td>360</td>\n      <td>44.30</td>\n    </tr>\n  </tbody>\n</table>\n</div>",
                        "text/plain": "   Cement  Blast Furnace Slag  Fly Ash  Water  Superplasticizer  \\\n0   540.0                 0.0      0.0  162.0               2.5   \n1   540.0                 0.0      0.0  162.0               2.5   \n2   332.5               142.5      0.0  228.0               0.0   \n3   332.5               142.5      0.0  228.0               0.0   \n4   198.6               132.4      0.0  192.0               0.0   \n\n   Coarse Aggregate  Fine Aggregate  Age  Strength  \n0            1040.0           676.0   28     79.99  \n1            1055.0           676.0   28     61.89  \n2             932.0           594.0  270     40.27  \n3             932.0           594.0  365     41.05  \n4             978.4           825.5  360     44.30  "
                    },
                    "execution_count": 11,
                    "metadata": {},
                    "output_type": "execute_result"
                }
            ],
            "source": "concrete_data_norm = (concrete_data - concrete_data.mean()) / concrete_data.std()\nconcrete_data.head()"
        },
        {
            "cell_type": "markdown",
            "metadata": {},
            "source": "<h2 id=\"train_the_model\">Train and test regression model</h2>\nWe will build the neural network with the following instead:\n\n- Three hidden layers, each of 10 nodes and ReLU activation function.\n"
        },
        {
            "cell_type": "markdown",
            "metadata": {},
            "source": "### step 1. Randomly split the data into a training and test sets by holding 30% of the data for testing."
        },
        {
            "cell_type": "code",
            "execution_count": 12,
            "metadata": {},
            "outputs": [],
            "source": "test_size = 0.3 # 30%"
        },
        {
            "cell_type": "markdown",
            "metadata": {},
            "source": "### step 2. Train the model on the training data using 100 epochs."
        },
        {
            "cell_type": "code",
            "execution_count": 13,
            "metadata": {},
            "outputs": [],
            "source": "num_epochs = 50"
        },
        {
            "cell_type": "code",
            "execution_count": 14,
            "metadata": {},
            "outputs": [
                {
                    "name": "stdout",
                    "output_type": "stream",
                    "text": "++++++++++++++++++++++++++++++++++++++++++++++++\nStep : 1\n++++++++++++++++++++++++++++++++++++++++++++++++\nX_trainset shape : (721, 8)\ny_trainset shape : (721,)\nX_testset shape : (309, 8)\ny_testset shape : (309,)\nWARNING:tensorflow:From /opt/conda/envs/Python36/lib/python3.6/site-packages/tensorflow/python/framework/op_def_library.py:263: colocate_with (from tensorflow.python.framework.ops) is deprecated and will be removed in a future version.\nInstructions for updating:\nColocations handled automatically by placer.\nWARNING:tensorflow:From /opt/conda/envs/Python36/lib/python3.6/site-packages/tensorflow/python/ops/math_ops.py:3066: to_int32 (from tensorflow.python.ops.math_ops) is deprecated and will be removed in a future version.\nInstructions for updating:\nUse tf.cast instead.\n++++++++++++++++++++++++++++++++++++++++++++++++\nStep : 1 Mean squared error = 0.6128969621383685\n++++++++++++++++++++++++++++++++++++++++++++++++\nStep : 2\n++++++++++++++++++++++++++++++++++++++++++++++++\nX_trainset shape : (721, 8)\ny_trainset shape : (721,)\nX_testset shape : (309, 8)\ny_testset shape : (309,)\n++++++++++++++++++++++++++++++++++++++++++++++++\nStep : 2 Mean squared error = 0.6508372195659627\n++++++++++++++++++++++++++++++++++++++++++++++++\nStep : 3\n++++++++++++++++++++++++++++++++++++++++++++++++\nX_trainset shape : (721, 8)\ny_trainset shape : (721,)\nX_testset shape : (309, 8)\ny_testset shape : (309,)\n++++++++++++++++++++++++++++++++++++++++++++++++\nStep : 3 Mean squared error = 0.6899289114270623\n++++++++++++++++++++++++++++++++++++++++++++++++\nStep : 4\n++++++++++++++++++++++++++++++++++++++++++++++++\nX_trainset shape : (721, 8)\ny_trainset shape : (721,)\nX_testset shape : (309, 8)\ny_testset shape : (309,)\n++++++++++++++++++++++++++++++++++++++++++++++++\nStep : 4 Mean squared error = 0.695745798415131\n++++++++++++++++++++++++++++++++++++++++++++++++\nStep : 5\n++++++++++++++++++++++++++++++++++++++++++++++++\nX_trainset shape : (721, 8)\ny_trainset shape : (721,)\nX_testset shape : (309, 8)\ny_testset shape : (309,)\n++++++++++++++++++++++++++++++++++++++++++++++++\nStep : 5 Mean squared error = 0.5892216241445883\n++++++++++++++++++++++++++++++++++++++++++++++++\nStep : 6\n++++++++++++++++++++++++++++++++++++++++++++++++\nX_trainset shape : (721, 8)\ny_trainset shape : (721,)\nX_testset shape : (309, 8)\ny_testset shape : (309,)\n++++++++++++++++++++++++++++++++++++++++++++++++\nStep : 6 Mean squared error = 0.6849729459693997\n++++++++++++++++++++++++++++++++++++++++++++++++\nStep : 7\n++++++++++++++++++++++++++++++++++++++++++++++++\nX_trainset shape : (721, 8)\ny_trainset shape : (721,)\nX_testset shape : (309, 8)\ny_testset shape : (309,)\n++++++++++++++++++++++++++++++++++++++++++++++++\nStep : 7 Mean squared error = 0.6364746553458899\n++++++++++++++++++++++++++++++++++++++++++++++++\nStep : 8\n++++++++++++++++++++++++++++++++++++++++++++++++\nX_trainset shape : (721, 8)\ny_trainset shape : (721,)\nX_testset shape : (309, 8)\ny_testset shape : (309,)\n++++++++++++++++++++++++++++++++++++++++++++++++\nStep : 8 Mean squared error = 0.6176217194157712\n++++++++++++++++++++++++++++++++++++++++++++++++\nStep : 9\n++++++++++++++++++++++++++++++++++++++++++++++++\nX_trainset shape : (721, 8)\ny_trainset shape : (721,)\nX_testset shape : (309, 8)\ny_testset shape : (309,)\n++++++++++++++++++++++++++++++++++++++++++++++++\nStep : 9 Mean squared error = 0.6210426358415124\n++++++++++++++++++++++++++++++++++++++++++++++++\nStep : 10\n++++++++++++++++++++++++++++++++++++++++++++++++\nX_trainset shape : (721, 8)\ny_trainset shape : (721,)\nX_testset shape : (309, 8)\ny_testset shape : (309,)\n++++++++++++++++++++++++++++++++++++++++++++++++\nStep : 10 Mean squared error = 0.625599018578878\n++++++++++++++++++++++++++++++++++++++++++++++++\nStep : 11\n++++++++++++++++++++++++++++++++++++++++++++++++\nX_trainset shape : (721, 8)\ny_trainset shape : (721,)\nX_testset shape : (309, 8)\ny_testset shape : (309,)\n++++++++++++++++++++++++++++++++++++++++++++++++\nStep : 11 Mean squared error = 0.6923344859816039\n++++++++++++++++++++++++++++++++++++++++++++++++\nStep : 12\n++++++++++++++++++++++++++++++++++++++++++++++++\nX_trainset shape : (721, 8)\ny_trainset shape : (721,)\nX_testset shape : (309, 8)\ny_testset shape : (309,)\n++++++++++++++++++++++++++++++++++++++++++++++++\nStep : 12 Mean squared error = 0.5775667314143829\n++++++++++++++++++++++++++++++++++++++++++++++++\nStep : 13\n++++++++++++++++++++++++++++++++++++++++++++++++\nX_trainset shape : (721, 8)\ny_trainset shape : (721,)\nX_testset shape : (309, 8)\ny_testset shape : (309,)\n++++++++++++++++++++++++++++++++++++++++++++++++\nStep : 13 Mean squared error = 0.6494076661402913\n++++++++++++++++++++++++++++++++++++++++++++++++\nStep : 14\n++++++++++++++++++++++++++++++++++++++++++++++++\nX_trainset shape : (721, 8)\ny_trainset shape : (721,)\nX_testset shape : (309, 8)\ny_testset shape : (309,)\n++++++++++++++++++++++++++++++++++++++++++++++++\nStep : 14 Mean squared error = 0.6557742622430737\n++++++++++++++++++++++++++++++++++++++++++++++++\nStep : 15\n++++++++++++++++++++++++++++++++++++++++++++++++\nX_trainset shape : (721, 8)\ny_trainset shape : (721,)\nX_testset shape : (309, 8)\ny_testset shape : (309,)\n++++++++++++++++++++++++++++++++++++++++++++++++\nStep : 15 Mean squared error = 0.5853441186745456\n++++++++++++++++++++++++++++++++++++++++++++++++\nStep : 16\n++++++++++++++++++++++++++++++++++++++++++++++++\nX_trainset shape : (721, 8)\ny_trainset shape : (721,)\nX_testset shape : (309, 8)\ny_testset shape : (309,)\n++++++++++++++++++++++++++++++++++++++++++++++++\nStep : 16 Mean squared error = 0.6480801407978682\n++++++++++++++++++++++++++++++++++++++++++++++++\nStep : 17\n++++++++++++++++++++++++++++++++++++++++++++++++\nX_trainset shape : (721, 8)\ny_trainset shape : (721,)\nX_testset shape : (309, 8)\ny_testset shape : (309,)\n++++++++++++++++++++++++++++++++++++++++++++++++\nStep : 17 Mean squared error = 0.5594407054559158\n++++++++++++++++++++++++++++++++++++++++++++++++\nStep : 18\n++++++++++++++++++++++++++++++++++++++++++++++++\nX_trainset shape : (721, 8)\ny_trainset shape : (721,)\nX_testset shape : (309, 8)\ny_testset shape : (309,)\n++++++++++++++++++++++++++++++++++++++++++++++++\nStep : 18 Mean squared error = 0.6366012158688176\n++++++++++++++++++++++++++++++++++++++++++++++++\nStep : 19\n++++++++++++++++++++++++++++++++++++++++++++++++\nX_trainset shape : (721, 8)\ny_trainset shape : (721,)\nX_testset shape : (309, 8)\ny_testset shape : (309,)\n++++++++++++++++++++++++++++++++++++++++++++++++\nStep : 19 Mean squared error = 0.5767023999965072\n++++++++++++++++++++++++++++++++++++++++++++++++\nStep : 20\n++++++++++++++++++++++++++++++++++++++++++++++++\nX_trainset shape : (721, 8)\ny_trainset shape : (721,)\nX_testset shape : (309, 8)\ny_testset shape : (309,)\n++++++++++++++++++++++++++++++++++++++++++++++++\nStep : 20 Mean squared error = 0.6137774877967935\n++++++++++++++++++++++++++++++++++++++++++++++++\nStep : 21\n++++++++++++++++++++++++++++++++++++++++++++++++\nX_trainset shape : (721, 8)\ny_trainset shape : (721,)\nX_testset shape : (309, 8)\ny_testset shape : (309,)\n++++++++++++++++++++++++++++++++++++++++++++++++\nStep : 21 Mean squared error = 0.6607374329060133\n++++++++++++++++++++++++++++++++++++++++++++++++\nStep : 22\n++++++++++++++++++++++++++++++++++++++++++++++++\nX_trainset shape : (721, 8)\ny_trainset shape : (721,)\nX_testset shape : (309, 8)\ny_testset shape : (309,)\n++++++++++++++++++++++++++++++++++++++++++++++++\nStep : 22 Mean squared error = 0.6373064121306927\n++++++++++++++++++++++++++++++++++++++++++++++++\nStep : 23\n++++++++++++++++++++++++++++++++++++++++++++++++\nX_trainset shape : (721, 8)\ny_trainset shape : (721,)\nX_testset shape : (309, 8)\ny_testset shape : (309,)\n++++++++++++++++++++++++++++++++++++++++++++++++\nStep : 23 Mean squared error = 0.6323920807397144\n++++++++++++++++++++++++++++++++++++++++++++++++\nStep : 24\n++++++++++++++++++++++++++++++++++++++++++++++++\nX_trainset shape : (721, 8)\ny_trainset shape : (721,)\nX_testset shape : (309, 8)\ny_testset shape : (309,)\n++++++++++++++++++++++++++++++++++++++++++++++++\nStep : 24 Mean squared error = 0.651452831295705\n++++++++++++++++++++++++++++++++++++++++++++++++\nStep : 25\n++++++++++++++++++++++++++++++++++++++++++++++++\nX_trainset shape : (721, 8)\ny_trainset shape : (721,)\nX_testset shape : (309, 8)\ny_testset shape : (309,)\n++++++++++++++++++++++++++++++++++++++++++++++++\nStep : 25 Mean squared error = 0.6370791812555116\n++++++++++++++++++++++++++++++++++++++++++++++++\nStep : 26\n++++++++++++++++++++++++++++++++++++++++++++++++\nX_trainset shape : (721, 8)\ny_trainset shape : (721,)\nX_testset shape : (309, 8)\ny_testset shape : (309,)\n++++++++++++++++++++++++++++++++++++++++++++++++\nStep : 26 Mean squared error = 0.729028471777904\n++++++++++++++++++++++++++++++++++++++++++++++++\nStep : 27\n++++++++++++++++++++++++++++++++++++++++++++++++\nX_trainset shape : (721, 8)\ny_trainset shape : (721,)\nX_testset shape : (309, 8)\ny_testset shape : (309,)\n++++++++++++++++++++++++++++++++++++++++++++++++\nStep : 27 Mean squared error = 0.6519013887231052\n++++++++++++++++++++++++++++++++++++++++++++++++\nStep : 28\n++++++++++++++++++++++++++++++++++++++++++++++++\nX_trainset shape : (721, 8)\ny_trainset shape : (721,)\nX_testset shape : (309, 8)\ny_testset shape : (309,)\n++++++++++++++++++++++++++++++++++++++++++++++++\nStep : 28 Mean squared error = 0.6356856774181157\n++++++++++++++++++++++++++++++++++++++++++++++++\nStep : 29\n++++++++++++++++++++++++++++++++++++++++++++++++\nX_trainset shape : (721, 8)\ny_trainset shape : (721,)\nX_testset shape : (309, 8)\ny_testset shape : (309,)\n++++++++++++++++++++++++++++++++++++++++++++++++\nStep : 30 Mean squared error = 0.6156424457471192\n++++++++++++++++++++++++++++++++++++++++++++++++\nStep : 31\n++++++++++++++++++++++++++++++++++++++++++++++++\nX_trainset shape : (721, 8)\ny_trainset shape : (721,)\nX_testset shape : (309, 8)\ny_testset shape : (309,)\n++++++++++++++++++++++++++++++++++++++++++++++++\nStep : 31 Mean squared error = 0.6600077211916999\n++++++++++++++++++++++++++++++++++++++++++++++++\nStep : 32\n++++++++++++++++++++++++++++++++++++++++++++++++\nX_trainset shape : (721, 8)\ny_trainset shape : (721,)\nX_testset shape : (309, 8)\ny_testset shape : (309,)\n++++++++++++++++++++++++++++++++++++++++++++++++\nStep : 32 Mean squared error = 0.54458117998381\n++++++++++++++++++++++++++++++++++++++++++++++++\nStep : 33\n++++++++++++++++++++++++++++++++++++++++++++++++\nX_trainset shape : (721, 8)\ny_trainset shape : (721,)\nX_testset shape : (309, 8)\ny_testset shape : (309,)\n++++++++++++++++++++++++++++++++++++++++++++++++\nStep : 33 Mean squared error = 0.6899083773347503\n++++++++++++++++++++++++++++++++++++++++++++++++\nStep : 34\n++++++++++++++++++++++++++++++++++++++++++++++++\nX_trainset shape : (721, 8)\ny_trainset shape : (721,)\nX_testset shape : (309, 8)\ny_testset shape : (309,)\n++++++++++++++++++++++++++++++++++++++++++++++++\nStep : 34 Mean squared error = 0.6507029082824887\n++++++++++++++++++++++++++++++++++++++++++++++++\nStep : 35\n++++++++++++++++++++++++++++++++++++++++++++++++\nX_trainset shape : (721, 8)\ny_trainset shape : (721,)\nX_testset shape : (309, 8)\ny_testset shape : (309,)\n++++++++++++++++++++++++++++++++++++++++++++++++\nStep : 35 Mean squared error = 0.688111677134475\n++++++++++++++++++++++++++++++++++++++++++++++++\nStep : 36\n++++++++++++++++++++++++++++++++++++++++++++++++\nX_trainset shape : (721, 8)\ny_trainset shape : (721,)\nX_testset shape : (309, 8)\ny_testset shape : (309,)\n++++++++++++++++++++++++++++++++++++++++++++++++\nStep : 36 Mean squared error = 0.6864200473975133\n++++++++++++++++++++++++++++++++++++++++++++++++\nStep : 37\n++++++++++++++++++++++++++++++++++++++++++++++++\nX_trainset shape : (721, 8)\ny_trainset shape : (721,)\nX_testset shape : (309, 8)\ny_testset shape : (309,)\n++++++++++++++++++++++++++++++++++++++++++++++++\nStep : 37 Mean squared error = 0.5981027855822336\n++++++++++++++++++++++++++++++++++++++++++++++++\nStep : 38\n++++++++++++++++++++++++++++++++++++++++++++++++\nX_trainset shape : (721, 8)\ny_trainset shape : (721,)\nX_testset shape : (309, 8)\ny_testset shape : (309,)\n++++++++++++++++++++++++++++++++++++++++++++++++\nStep : 38 Mean squared error = 0.6478206874358312\n++++++++++++++++++++++++++++++++++++++++++++++++\nStep : 39\n++++++++++++++++++++++++++++++++++++++++++++++++\nX_trainset shape : (721, 8)\ny_trainset shape : (721,)\nX_testset shape : (309, 8)\ny_testset shape : (309,)\n++++++++++++++++++++++++++++++++++++++++++++++++\nStep : 39 Mean squared error = 0.5983797197810963\n++++++++++++++++++++++++++++++++++++++++++++++++\nStep : 40\n++++++++++++++++++++++++++++++++++++++++++++++++\nX_trainset shape : (721, 8)\ny_trainset shape : (721,)\nX_testset shape : (309, 8)\ny_testset shape : (309,)\n++++++++++++++++++++++++++++++++++++++++++++++++\nStep : 40 Mean squared error = 0.6170752780596156\n++++++++++++++++++++++++++++++++++++++++++++++++\nStep : 41\n++++++++++++++++++++++++++++++++++++++++++++++++\nX_trainset shape : (721, 8)\ny_trainset shape : (721,)\nX_testset shape : (309, 8)\ny_testset shape : (309,)\n++++++++++++++++++++++++++++++++++++++++++++++++\nStep : 41 Mean squared error = 0.6112455755162565\n++++++++++++++++++++++++++++++++++++++++++++++++\nStep : 42\n++++++++++++++++++++++++++++++++++++++++++++++++\nX_trainset shape : (721, 8)\ny_trainset shape : (721,)\nX_testset shape : (309, 8)\ny_testset shape : (309,)\n++++++++++++++++++++++++++++++++++++++++++++++++\nStep : 42 Mean squared error = 0.687177407455111\n++++++++++++++++++++++++++++++++++++++++++++++++\nStep : 43\n++++++++++++++++++++++++++++++++++++++++++++++++\nX_trainset shape : (721, 8)\ny_trainset shape : (721,)\nX_testset shape : (309, 8)\ny_testset shape : (309,)\n++++++++++++++++++++++++++++++++++++++++++++++++\nStep : 43 Mean squared error = 0.5937489861978533\n++++++++++++++++++++++++++++++++++++++++++++++++\nStep : 44\n++++++++++++++++++++++++++++++++++++++++++++++++\nX_trainset shape : (721, 8)\ny_trainset shape : (721,)\nX_testset shape : (309, 8)\ny_testset shape : (309,)\n++++++++++++++++++++++++++++++++++++++++++++++++\nStep : 44 Mean squared error = 0.6519879291704382\n++++++++++++++++++++++++++++++++++++++++++++++++\nStep : 45\n++++++++++++++++++++++++++++++++++++++++++++++++\nX_trainset shape : (721, 8)\ny_trainset shape : (721,)\nX_testset shape : (309, 8)\ny_testset shape : (309,)\n++++++++++++++++++++++++++++++++++++++++++++++++\nStep : 45 Mean squared error = 0.67206963477525\n++++++++++++++++++++++++++++++++++++++++++++++++\nStep : 46\n++++++++++++++++++++++++++++++++++++++++++++++++\nX_trainset shape : (721, 8)\ny_trainset shape : (721,)\nX_testset shape : (309, 8)\ny_testset shape : (309,)\n++++++++++++++++++++++++++++++++++++++++++++++++\nStep : 46 Mean squared error = 0.6885438720129309\n++++++++++++++++++++++++++++++++++++++++++++++++\nStep : 47\n++++++++++++++++++++++++++++++++++++++++++++++++\nX_trainset shape : (721, 8)\ny_trainset shape : (721,)\nX_testset shape : (309, 8)\ny_testset shape : (309,)\n++++++++++++++++++++++++++++++++++++++++++++++++\nStep : 47 Mean squared error = 0.6608575215186413\n++++++++++++++++++++++++++++++++++++++++++++++++\nStep : 48\n++++++++++++++++++++++++++++++++++++++++++++++++\nX_trainset shape : (721, 8)\ny_trainset shape : (721,)\nX_testset shape : (309, 8)\ny_testset shape : (309,)\n++++++++++++++++++++++++++++++++++++++++++++++++\nStep : 48 Mean squared error = 0.6046334653598314\n++++++++++++++++++++++++++++++++++++++++++++++++\nStep : 49\n++++++++++++++++++++++++++++++++++++++++++++++++\nX_trainset shape : (721, 8)\ny_trainset shape : (721,)\nX_testset shape : (309, 8)\ny_testset shape : (309,)\n++++++++++++++++++++++++++++++++++++++++++++++++\nStep : 49 Mean squared error = 0.6542371666897328\n"
                }
            ],
            "source": "# experiment 50 times \npath_d_metrics = []\n\n# iterate 50 times\nfor i in range(1, 50):\n    print(\"++++++++++++++++++++++++++++++++++++++++++++++++\")\n    print(\"Step : {}\".format(i))\n    \n    # get random training and testing data set with normalized data\n    X_trainset, X_testset, y_trainset, y_testset = get_datatset(concrete_data_norm, test_size, i)\n    \n    # validate dataset\n    verify_dataset(X_trainset, X_testset, y_trainset, y_testset)\n    \n    # get input shape\n    input_shape = X_trainset.shape[1] \n    \n    # build regression model\n    model = regression_model(input_shape)\n    \n    # evaluation compute the mean squared\n    mse = test_regression_model(model, X_trainset, X_testset, y_trainset, y_testset, num_epochs)\n    \n    path_d_metrics.append(mse)\n    \n    print(\"++++++++++++++++++++++++++++++++++++++++++++++++\")\n    print(\"Step : {} Mean squared error = {}\".format(i, mse))"
        },
        {
            "cell_type": "markdown",
            "metadata": {},
            "source": "### step 3. Evaluate the model on the test data and compute the mean squared error between the predicted concrete strength and the actual concrete strength."
        },
        {
            "cell_type": "code",
            "execution_count": 15,
            "metadata": {},
            "outputs": [],
            "source": "path_d_mean = np.mean(path_d_metrics)\npath_d_std = np.std(path_d_metrics)"
        },
        {
            "cell_type": "markdown",
            "metadata": {},
            "source": "<h2 id=\"preport\">Report Model performance</h2>\nHow does the mean of the mean squared errors compare to that from Step B?"
        },
        {
            "cell_type": "code",
            "execution_count": 16,
            "metadata": {},
            "outputs": [
                {
                    "name": "stdout",
                    "output_type": "stream",
                    "text": "++++++++++++++++++++++++++++++++++++++++++++++++\nmean of squared errors : 0.6381609132986579\nstandard deviation of squared errors : 0.03936061580750752\n"
                }
            ],
            "source": "print(\"++++++++++++++++++++++++++++++++++++++++++++++++\")\nprint(\"mean of squared errors : {}\".format(path_d_mean))\nprint(\"standard deviation of squared errors : {}\".format(path_d_std))"
        },
        {
            "cell_type": "markdown",
            "metadata": {},
            "source": "### Compare to that from Path B\n\nPath D mean of squared errors : 0.6381609132986579\n\nPath D standard deviation of squared errors : 0.03936061580750752\n\n\nPath B: mean of squared errors : 0.6654493296422676\n\nPath B: standard deviation of squared errors : 0.040174342338809704\n\nThe result show step C better that step B ~4%\nWith increase number of epochs the MSE better abound 4%"
        }
    ],
    "metadata": {
        "kernelspec": {
            "display_name": "Python 3.6",
            "language": "python",
            "name": "python3"
        },
        "language_info": {
            "codemirror_mode": {
                "name": "ipython",
                "version": 3
            },
            "file_extension": ".py",
            "mimetype": "text/x-python",
            "name": "python",
            "nbconvert_exporter": "python",
            "pygments_lexer": "ipython3",
            "version": "3.6.8"
        }
    },
    "nbformat": 4,
    "nbformat_minor": 1
}